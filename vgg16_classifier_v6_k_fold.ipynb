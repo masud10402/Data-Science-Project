{
  "nbformat": 4,
  "nbformat_minor": 0,
  "metadata": {
    "colab": {
      "provenance": [],
      "gpuType": "T4"
    },
    "kernelspec": {
      "name": "python3",
      "display_name": "Python 3"
    },
    "language_info": {
      "name": "python"
    },
    "accelerator": "GPU"
  },
  "cells": [
    {
      "cell_type": "markdown",
      "source": [
        "##VGG16\n",
        "\n",
        "- k-fold cross-validation applied\n",
        "- imagenet weights\n",
        "- IMG_SIZE = 32\n",
        "- BATCH_SIZE = 32\n",
        "- EPOCHS = 30\n",
        "- Lr = 0.001\n",
        "\n",
        "##Findings:\n",
        "Accuracy: 96.43%"
      ],
      "metadata": {
        "id": "1a_7gjnSg0Pl"
      }
    },
    {
      "cell_type": "markdown",
      "source": [
        "#Mount Google Drive and import libraries"
      ],
      "metadata": {
        "id": "y8U5oPlNQNn8"
      }
    },
    {
      "cell_type": "code",
      "execution_count": 21,
      "metadata": {
        "colab": {
          "base_uri": "https://localhost:8080/"
        },
        "id": "JnqCi9fgIfyw",
        "outputId": "a1a90058-1a64-494d-a40c-53faeacefc64"
      },
      "outputs": [
        {
          "output_type": "stream",
          "name": "stdout",
          "text": [
            "Drive already mounted at /content/drive; to attempt to forcibly remount, call drive.mount(\"/content/drive\", force_remount=True).\n"
          ]
        }
      ],
      "source": [
        "# Mount google drive\n",
        "from google.colab import drive\n",
        "drive.mount('/content/drive')\n",
        "\n",
        "# Import necessary libraries\n",
        "import os\n",
        "import cv2\n",
        "import numpy as np\n",
        "import pandas as pd\n",
        "import matplotlib.pyplot as plt\n",
        "from sklearn.model_selection import train_test_split\n",
        "from tensorflow.keras.utils import to_categorical\n",
        "from sklearn.metrics import classification_report, confusion_matrix\n",
        "\n",
        "import tensorflow as tf\n",
        "from keras.callbacks import EarlyStopping\n",
        "from tensorflow.keras import layers, models\n",
        "from tensorflow import keras\n",
        "from tensorflow.keras.applications.vgg16 import VGG16\n",
        "\n",
        "import warnings\n",
        "warnings.filterwarnings(\"ignore\")"
      ]
    },
    {
      "cell_type": "markdown",
      "source": [
        "#Dataset:"
      ],
      "metadata": {
        "id": "QjYHb_tIQu4P"
      }
    },
    {
      "cell_type": "markdown",
      "source": [
        "##Load training data"
      ],
      "metadata": {
        "id": "b9WIlH_cPvhn"
      }
    },
    {
      "cell_type": "code",
      "source": [
        "# Define paths to dataset directories\n",
        "train_dir = '/content/drive/My Drive/Data/GTSRB/Train/GTSRB/Final_Training/Images/'\n",
        "test_dir = '/content/drive/My Drive/Data/GTSRB/Test/GTSRB/Final_Test/Images/'\n",
        "\n",
        "# Define image size\n",
        "IMG_SIZE = 32  # Resize images\n",
        "BATCH_SIZE = 32\n",
        "num_classes = 43\n",
        "\n",
        "# Helper function to load images and labels\n",
        "def load_data(data_dir):\n",
        "    images = []\n",
        "    labels = []\n",
        "\n",
        "    # Valid image file extensions\n",
        "    valid_extensions = ['.jpg', '.jpeg', '.png', '.ppm']\n",
        "\n",
        "    # Loop through each subdirectory (which corresponds to a class)\n",
        "    for label_dir in os.listdir(data_dir):\n",
        "        label_path = os.path.join(data_dir, label_dir)\n",
        "\n",
        "        if os.path.isdir(label_path):\n",
        "            label = int(label_dir)  # Subdirectory name is the class label\n",
        "\n",
        "            for img_file in os.listdir(label_path):\n",
        "                img_path = os.path.join(label_path, img_file)\n",
        "\n",
        "                # Check if the file has a valid image extension\n",
        "                _, file_extension = os.path.splitext(img_file)\n",
        "                if file_extension.lower() not in valid_extensions:\n",
        "                    print(f\"Skipping non-image file: {img_file}\")\n",
        "                    continue  # Skip non-image files (e.g., CSV)\n",
        "\n",
        "                # Read the image using OpenCV\n",
        "                image = cv2.imread(img_path)\n",
        "\n",
        "                # Resize image\n",
        "                image = cv2.resize(image, (IMG_SIZE, IMG_SIZE))\n",
        "\n",
        "                # Append the image and label to the lists\n",
        "                images.append(image)\n",
        "                labels.append(label)\n",
        "\n",
        "    # Convert to NumPy arrays and normalize\n",
        "    images = np.array(images, dtype='float32') / 255.0  # Normalize images\n",
        "    labels = to_categorical(labels, num_classes)  # One-hot encode labels\n",
        "\n",
        "    return images, labels\n",
        "\n",
        "# Load training data\n",
        "images, labels = load_data(train_dir)"
      ],
      "metadata": {
        "colab": {
          "base_uri": "https://localhost:8080/"
        },
        "id": "whmxxSZNZn9L",
        "outputId": "80679099-cae8-4423-d7e5-bf0b852ede4a"
      },
      "execution_count": 2,
      "outputs": [
        {
          "output_type": "stream",
          "name": "stdout",
          "text": [
            "Skipping non-image file: GT-00000.csv\n",
            "Skipping non-image file: GT-00001.csv\n",
            "Skipping non-image file: GT-00002.csv\n",
            "Skipping non-image file: GT-00003.csv\n",
            "Skipping non-image file: GT-00004.csv\n",
            "Skipping non-image file: GT-00005.csv\n",
            "Skipping non-image file: GT-00006.csv\n",
            "Skipping non-image file: GT-00007.csv\n",
            "Skipping non-image file: GT-00008.csv\n",
            "Skipping non-image file: GT-00009.csv\n",
            "Skipping non-image file: GT-00010.csv\n",
            "Skipping non-image file: GT-00011.csv\n",
            "Skipping non-image file: GT-00012.csv\n",
            "Skipping non-image file: GT-00013.csv\n",
            "Skipping non-image file: GT-00014.csv\n",
            "Skipping non-image file: GT-00015.csv\n",
            "Skipping non-image file: GT-00016.csv\n",
            "Skipping non-image file: GT-00017.csv\n",
            "Skipping non-image file: GT-00018.csv\n",
            "Skipping non-image file: GT-00019.csv\n",
            "Skipping non-image file: GT-00020.csv\n",
            "Skipping non-image file: GT-00021.csv\n",
            "Skipping non-image file: GT-00022.csv\n",
            "Skipping non-image file: GT-00023.csv\n",
            "Skipping non-image file: GT-00024.csv\n",
            "Skipping non-image file: GT-00025.csv\n",
            "Skipping non-image file: GT-00026.csv\n",
            "Skipping non-image file: GT-00027.csv\n",
            "Skipping non-image file: GT-00028.csv\n",
            "Skipping non-image file: GT-00029.csv\n",
            "Skipping non-image file: GT-00030.csv\n",
            "Skipping non-image file: GT-00031.csv\n",
            "Skipping non-image file: GT-00032.csv\n",
            "Skipping non-image file: GT-00033.csv\n",
            "Skipping non-image file: GT-00034.csv\n",
            "Skipping non-image file: GT-00035.csv\n",
            "Skipping non-image file: GT-00036.csv\n",
            "Skipping non-image file: GT-00037.csv\n",
            "Skipping non-image file: GT-00038.csv\n",
            "Skipping non-image file: GT-00039.csv\n",
            "Skipping non-image file: GT-00040.csv\n",
            "Skipping non-image file: GT-00041.csv\n",
            "Skipping non-image file: GT-00042.csv\n"
          ]
        }
      ]
    },
    {
      "cell_type": "markdown",
      "source": [
        "##Data Transformation"
      ],
      "metadata": {
        "id": "rrCpaPlpRFIH"
      }
    },
    {
      "cell_type": "code",
      "source": [
        "### Image Augmentation ###\n",
        "from tensorflow.keras.preprocessing.image import ImageDataGenerator\n",
        "\n",
        "# Create an ImageDataGenerator for augmentation\n",
        "datagen = ImageDataGenerator(\n",
        "    rotation_range=15,        # Rotate images by up to 15 degrees\n",
        "    zoom_range=0.2,           # Random zoom in/out by up to 20%\n",
        "    width_shift_range=0.1,    # Shift the image horizontally by 10%\n",
        "    height_shift_range=0.1,   # Shift the image vertically by 10%\n",
        ")\n",
        "\n",
        "# Fit the generator on the training data\n",
        "datagen.fit(images)\n",
        "\n",
        "# Create the augmented data generator for training\n",
        "train_generator = datagen.flow(images, labels, batch_size=BATCH_SIZE, shuffle=True)"
      ],
      "metadata": {
        "id": "7ZC5E9dDZ8Ia"
      },
      "execution_count": 3,
      "outputs": []
    },
    {
      "cell_type": "code",
      "source": [
        "print(\"Number of samples in augmented dataset:\", len(train_generator) * BATCH_SIZE)"
      ],
      "metadata": {
        "colab": {
          "base_uri": "https://localhost:8080/"
        },
        "id": "pgsZaR5V0X1R",
        "outputId": "e4e26933-1c6e-43c2-facd-8e99316fe9f0"
      },
      "execution_count": 4,
      "outputs": [
        {
          "output_type": "stream",
          "name": "stdout",
          "text": [
            "Number of samples in augmented dataset: 39232\n"
          ]
        }
      ]
    },
    {
      "cell_type": "markdown",
      "source": [
        "##Apply k-fold cross validation"
      ],
      "metadata": {
        "id": "Q7MgyQjmU6Pt"
      }
    },
    {
      "cell_type": "code",
      "source": [
        "import numpy as np\n",
        "from sklearn.model_selection import StratifiedKFold\n",
        "from tensorflow.keras.applications import EfficientNetB0\n",
        "from tensorflow.keras.layers import Dense\n",
        "from tensorflow.keras.models import Model\n",
        "from tensorflow.keras.optimizers import Adam\n",
        "from tensorflow.keras.callbacks import EarlyStopping\n",
        "\n",
        "# Define the number of folds\n",
        "K = 3\n",
        "\n",
        "# Convert categorical labels back to integers for StratifiedKFold\n",
        "y_labels = np.argmax(labels, axis=1)\n",
        "\n",
        "# Define Stratified K-Fold\n",
        "skf = StratifiedKFold(n_splits=K, shuffle=True, random_state=42)\n",
        "\n",
        "# Function to load vgg16 model\n",
        "def create_model(input_shape, num_classes):\n",
        "    # Load the VGG16 base model\n",
        "    base_model = VGG16(weights='imagenet', include_top=False, input_shape=(32, 32, 3))\n",
        "\n",
        "    # Unfreeze the last few layers of the base model\n",
        "    for layer in base_model.layers[-5:]:\n",
        "        layer.trainable = True\n",
        "\n",
        "    # Add new layers on top of the base model\n",
        "    model = models.Sequential()\n",
        "    model.add(base_model)\n",
        "    model.add(layers.Flatten())\n",
        "    model.add(layers.Dense(512, activation='relu'))\n",
        "    model.add(layers.Dropout(0.5))\n",
        "    model.add(layers.Dense(43, activation='softmax'))  # Output layer with softmax activation\n",
        "\n",
        "    model.compile(optimizer=Adam(learning_rate=0.001),\n",
        "                  loss='categorical_crossentropy',\n",
        "                  metrics=['accuracy'])\n",
        "    return model"
      ],
      "metadata": {
        "id": "92R09zUDaFgv"
      },
      "execution_count": 22,
      "outputs": []
    },
    {
      "cell_type": "code",
      "source": [
        "import os\n",
        "\n",
        "# Directory to save models\n",
        "model_save_dir = '/content/drive/My Drive/UH/Data Science Project/GTSRB/Models/'\n",
        "\n",
        "# Ensure the directory exists\n",
        "os.makedirs(model_save_dir, exist_ok=True)\n",
        "\n",
        "# Perform K-Fold Cross-Validation\n",
        "fold_no = 1\n",
        "accuracies = []\n",
        "model_paths = []\n",
        "EPOCHS = 15\n",
        "\n",
        "# Initialize lists to store training and validation metrics\n",
        "train_accuracies = []\n",
        "val_accuracies = []\n",
        "train_losses = []\n",
        "val_losses = []\n",
        "\n",
        "# Initialize lists to store metrics\n",
        "classification_reports = []\n",
        "\n",
        "# Initialize the cumulative confusion matrix\n",
        "cumulative_confusion_matrix = np.zeros((num_classes, num_classes), dtype=np.float32)\n",
        "\n",
        "for train_idx, val_idx in skf.split(images, y_labels):\n",
        "    print(f\"\\nTraining fold {fold_no}...\")\n",
        "\n",
        "    # Split the data into training and validation sets\n",
        "    X_train, X_val = images[train_idx], images[val_idx]\n",
        "    y_train, y_val = labels[train_idx], labels[val_idx]\n",
        "\n",
        "    # Create a new model instance\n",
        "    model = create_model(input_shape=(IMG_SIZE, IMG_SIZE, 3), num_classes=num_classes)\n",
        "\n",
        "    # Define early stopping\n",
        "    early_stopping = EarlyStopping(monitor='val_loss', patience=3, restore_best_weights=True)\n",
        "\n",
        "    # Train the model\n",
        "    history = model.fit(\n",
        "        X_train, y_train,\n",
        "        validation_data=(X_val, y_val),\n",
        "        epochs=EPOCHS,\n",
        "        batch_size=BATCH_SIZE,\n",
        "        callbacks=[early_stopping],\n",
        "        verbose=1\n",
        "    )\n",
        "\n",
        "    # Store accuracy and loss for each epoch\n",
        "    train_accuracies.append(history.history['accuracy'])\n",
        "    val_accuracies.append(history.history['val_accuracy'])\n",
        "    train_losses.append(history.history['loss'])\n",
        "    val_losses.append(history.history['val_loss'])\n",
        "\n",
        "    # Generate predictions for the validation set\n",
        "    y_pred = np.argmax(model.predict(X_val), axis=1)\n",
        "    y_true = np.argmax(y_val, axis=1)\n",
        "\n",
        "    # Compute classification report for the current fold\n",
        "    report = classification_report(y_true, y_pred, output_dict=True)\n",
        "    classification_reports.append(report)\n",
        "\n",
        "    # Compute confusion matrix for the current fold\n",
        "    fold_confusion_matrix = confusion_matrix(y_true, y_pred, labels=range(num_classes))\n",
        "\n",
        "    # Accumulate the confusion matrix\n",
        "    cumulative_confusion_matrix += fold_confusion_matrix\n",
        "\n",
        "    # Evaluate the model on the validation set\n",
        "    val_loss, val_accuracy = model.evaluate(X_val, y_val, verbose=0)\n",
        "    print(f\"Fold {fold_no} - Validation Accuracy: {val_accuracy:.4f}\")\n",
        "    accuracies.append(val_accuracy)\n",
        "\n",
        "    # Save the model\n",
        "    model_path = os.path.join(model_save_dir, f'model_fold_{fold_no}.h5')\n",
        "    model.save(model_path)\n",
        "    model_paths.append(model_path)\n",
        "\n",
        "    fold_no += 1"
      ],
      "metadata": {
        "colab": {
          "base_uri": "https://localhost:8080/"
        },
        "id": "sYgZtD5MvBod",
        "outputId": "482d49f1-bc77-436a-fa11-6db52b07c33e"
      },
      "execution_count": 23,
      "outputs": [
        {
          "output_type": "stream",
          "name": "stdout",
          "text": [
            "\n",
            "Training fold 1...\n",
            "Downloading data from https://storage.googleapis.com/tensorflow/keras-applications/vgg16/vgg16_weights_tf_dim_ordering_tf_kernels_notop.h5\n",
            "\u001b[1m58889256/58889256\u001b[0m \u001b[32m━━━━━━━━━━━━━━━━━━━━\u001b[0m\u001b[37m\u001b[0m \u001b[1m0s\u001b[0m 0us/step\n",
            "Epoch 1/15\n",
            "\u001b[1m817/817\u001b[0m \u001b[32m━━━━━━━━━━━━━━━━━━━━\u001b[0m\u001b[37m\u001b[0m \u001b[1m52s\u001b[0m 53ms/step - accuracy: 0.1595 - loss: 3.0152 - val_accuracy: 0.5783 - val_loss: 1.2232\n",
            "Epoch 2/15\n",
            "\u001b[1m817/817\u001b[0m \u001b[32m━━━━━━━━━━━━━━━━━━━━\u001b[0m\u001b[37m\u001b[0m \u001b[1m65s\u001b[0m 39ms/step - accuracy: 0.6655 - loss: 1.0266 - val_accuracy: 0.8480 - val_loss: 0.4765\n",
            "Epoch 3/15\n",
            "\u001b[1m817/817\u001b[0m \u001b[32m━━━━━━━━━━━━━━━━━━━━\u001b[0m\u001b[37m\u001b[0m \u001b[1m30s\u001b[0m 37ms/step - accuracy: 0.8479 - loss: 0.4908 - val_accuracy: 0.9206 - val_loss: 0.2472\n",
            "Epoch 4/15\n",
            "\u001b[1m817/817\u001b[0m \u001b[32m━━━━━━━━━━━━━━━━━━━━\u001b[0m\u001b[37m\u001b[0m \u001b[1m42s\u001b[0m 38ms/step - accuracy: 0.8974 - loss: 0.3556 - val_accuracy: 0.9583 - val_loss: 0.1557\n",
            "Epoch 5/15\n",
            "\u001b[1m817/817\u001b[0m \u001b[32m━━━━━━━━━━━━━━━━━━━━\u001b[0m\u001b[37m\u001b[0m \u001b[1m39s\u001b[0m 37ms/step - accuracy: 0.9380 - loss: 0.2439 - val_accuracy: 0.9539 - val_loss: 0.1813\n",
            "Epoch 6/15\n",
            "\u001b[1m817/817\u001b[0m \u001b[32m━━━━━━━━━━━━━━━━━━━━\u001b[0m\u001b[37m\u001b[0m \u001b[1m44s\u001b[0m 40ms/step - accuracy: 0.9587 - loss: 0.1598 - val_accuracy: 0.9738 - val_loss: 0.1480\n",
            "Epoch 7/15\n",
            "\u001b[1m817/817\u001b[0m \u001b[32m━━━━━━━━━━━━━━━━━━━━\u001b[0m\u001b[37m\u001b[0m \u001b[1m30s\u001b[0m 37ms/step - accuracy: 0.9563 - loss: 0.2161 - val_accuracy: 0.9208 - val_loss: 0.3092\n",
            "Epoch 8/15\n",
            "\u001b[1m817/817\u001b[0m \u001b[32m━━━━━━━━━━━━━━━━━━━━\u001b[0m\u001b[37m\u001b[0m \u001b[1m41s\u001b[0m 37ms/step - accuracy: 0.9470 - loss: 0.2287 - val_accuracy: 0.9598 - val_loss: 0.2566\n",
            "Epoch 9/15\n",
            "\u001b[1m817/817\u001b[0m \u001b[32m━━━━━━━━━━━━━━━━━━━━\u001b[0m\u001b[37m\u001b[0m \u001b[1m44s\u001b[0m 40ms/step - accuracy: 0.9785 - loss: 0.0929 - val_accuracy: 0.9855 - val_loss: 0.0954\n",
            "Epoch 10/15\n",
            "\u001b[1m817/817\u001b[0m \u001b[32m━━━━━━━━━━━━━━━━━━━━\u001b[0m\u001b[37m\u001b[0m \u001b[1m30s\u001b[0m 37ms/step - accuracy: 0.9582 - loss: 0.2286 - val_accuracy: 0.9770 - val_loss: 0.1187\n",
            "Epoch 11/15\n",
            "\u001b[1m817/817\u001b[0m \u001b[32m━━━━━━━━━━━━━━━━━━━━\u001b[0m\u001b[37m\u001b[0m \u001b[1m33s\u001b[0m 40ms/step - accuracy: 0.9555 - loss: 0.2107 - val_accuracy: 0.9725 - val_loss: 0.1436\n",
            "Epoch 12/15\n",
            "\u001b[1m817/817\u001b[0m \u001b[32m━━━━━━━━━━━━━━━━━━━━\u001b[0m\u001b[37m\u001b[0m \u001b[1m30s\u001b[0m 37ms/step - accuracy: 0.9550 - loss: 0.2192 - val_accuracy: 0.9841 - val_loss: 0.0777\n",
            "Epoch 13/15\n",
            "\u001b[1m817/817\u001b[0m \u001b[32m━━━━━━━━━━━━━━━━━━━━\u001b[0m\u001b[37m\u001b[0m \u001b[1m44s\u001b[0m 40ms/step - accuracy: 0.9844 - loss: 0.0811 - val_accuracy: 0.9878 - val_loss: 0.0657\n",
            "Epoch 14/15\n",
            "\u001b[1m817/817\u001b[0m \u001b[32m━━━━━━━━━━━━━━━━━━━━\u001b[0m\u001b[37m\u001b[0m \u001b[1m40s\u001b[0m 40ms/step - accuracy: 0.9845 - loss: 0.0815 - val_accuracy: 0.9907 - val_loss: 0.0387\n",
            "Epoch 15/15\n",
            "\u001b[1m817/817\u001b[0m \u001b[32m━━━━━━━━━━━━━━━━━━━━\u001b[0m\u001b[37m\u001b[0m \u001b[1m39s\u001b[0m 37ms/step - accuracy: 0.9708 - loss: 0.1550 - val_accuracy: 0.9337 - val_loss: 0.6312\n",
            "\u001b[1m409/409\u001b[0m \u001b[32m━━━━━━━━━━━━━━━━━━━━\u001b[0m\u001b[37m\u001b[0m \u001b[1m4s\u001b[0m 7ms/step\n"
          ]
        },
        {
          "output_type": "stream",
          "name": "stderr",
          "text": [
            "WARNING:absl:You are saving your model as an HDF5 file via `model.save()` or `keras.saving.save_model(model)`. This file format is considered legacy. We recommend using instead the native Keras format, e.g. `model.save('my_model.keras')` or `keras.saving.save_model(model, 'my_model.keras')`. \n"
          ]
        },
        {
          "output_type": "stream",
          "name": "stdout",
          "text": [
            "Fold 1 - Validation Accuracy: 0.9907\n",
            "\n",
            "Training fold 2...\n",
            "Epoch 1/15\n",
            "\u001b[1m817/817\u001b[0m \u001b[32m━━━━━━━━━━━━━━━━━━━━\u001b[0m\u001b[37m\u001b[0m \u001b[1m40s\u001b[0m 42ms/step - accuracy: 0.1105 - loss: 3.2432 - val_accuracy: 0.4469 - val_loss: 1.6893\n",
            "Epoch 2/15\n",
            "\u001b[1m817/817\u001b[0m \u001b[32m━━━━━━━━━━━━━━━━━━━━\u001b[0m\u001b[37m\u001b[0m \u001b[1m30s\u001b[0m 37ms/step - accuracy: 0.4614 - loss: 1.6552 - val_accuracy: 0.6453 - val_loss: 0.9520\n",
            "Epoch 3/15\n",
            "\u001b[1m817/817\u001b[0m \u001b[32m━━━━━━━━━━━━━━━━━━━━\u001b[0m\u001b[37m\u001b[0m \u001b[1m41s\u001b[0m 37ms/step - accuracy: 0.7670 - loss: 0.6803 - val_accuracy: 0.8402 - val_loss: 0.5132\n",
            "Epoch 4/15\n",
            "\u001b[1m817/817\u001b[0m \u001b[32m━━━━━━━━━━━━━━━━━━━━\u001b[0m\u001b[37m\u001b[0m \u001b[1m44s\u001b[0m 40ms/step - accuracy: 0.8751 - loss: 0.3729 - val_accuracy: 0.9092 - val_loss: 0.3241\n",
            "Epoch 5/15\n",
            "\u001b[1m817/817\u001b[0m \u001b[32m━━━━━━━━━━━━━━━━━━━━\u001b[0m\u001b[37m\u001b[0m \u001b[1m38s\u001b[0m 37ms/step - accuracy: 0.9229 - loss: 0.2522 - val_accuracy: 0.9271 - val_loss: 0.2678\n",
            "Epoch 6/15\n",
            "\u001b[1m817/817\u001b[0m \u001b[32m━━━━━━━━━━━━━━━━━━━━\u001b[0m\u001b[37m\u001b[0m \u001b[1m41s\u001b[0m 37ms/step - accuracy: 0.9145 - loss: 0.3040 - val_accuracy: 0.9528 - val_loss: 0.1486\n",
            "Epoch 7/15\n",
            "\u001b[1m817/817\u001b[0m \u001b[32m━━━━━━━━━━━━━━━━━━━━\u001b[0m\u001b[37m\u001b[0m \u001b[1m32s\u001b[0m 40ms/step - accuracy: 0.9517 - loss: 0.1965 - val_accuracy: 0.9416 - val_loss: 0.2397\n",
            "Epoch 8/15\n",
            "\u001b[1m817/817\u001b[0m \u001b[32m━━━━━━━━━━━━━━━━━━━━\u001b[0m\u001b[37m\u001b[0m \u001b[1m39s\u001b[0m 37ms/step - accuracy: 0.9578 - loss: 0.1701 - val_accuracy: 0.9860 - val_loss: 0.0621\n",
            "Epoch 9/15\n",
            "\u001b[1m817/817\u001b[0m \u001b[32m━━━━━━━━━━━━━━━━━━━━\u001b[0m\u001b[37m\u001b[0m \u001b[1m41s\u001b[0m 37ms/step - accuracy: 0.9779 - loss: 0.0966 - val_accuracy: 0.9383 - val_loss: 0.4533\n",
            "Epoch 10/15\n",
            "\u001b[1m817/817\u001b[0m \u001b[32m━━━━━━━━━━━━━━━━━━━━\u001b[0m\u001b[37m\u001b[0m \u001b[1m41s\u001b[0m 37ms/step - accuracy: 0.9603 - loss: 0.1866 - val_accuracy: 0.9794 - val_loss: 0.0895\n",
            "Epoch 11/15\n",
            "\u001b[1m817/817\u001b[0m \u001b[32m━━━━━━━━━━━━━━━━━━━━\u001b[0m\u001b[37m\u001b[0m \u001b[1m41s\u001b[0m 37ms/step - accuracy: 0.9679 - loss: 0.1624 - val_accuracy: 0.9755 - val_loss: 0.1067\n",
            "\u001b[1m409/409\u001b[0m \u001b[32m━━━━━━━━━━━━━━━━━━━━\u001b[0m\u001b[37m\u001b[0m \u001b[1m3s\u001b[0m 7ms/step\n"
          ]
        },
        {
          "output_type": "stream",
          "name": "stderr",
          "text": [
            "WARNING:absl:You are saving your model as an HDF5 file via `model.save()` or `keras.saving.save_model(model)`. This file format is considered legacy. We recommend using instead the native Keras format, e.g. `model.save('my_model.keras')` or `keras.saving.save_model(model, 'my_model.keras')`. \n"
          ]
        },
        {
          "output_type": "stream",
          "name": "stdout",
          "text": [
            "Fold 2 - Validation Accuracy: 0.9860\n",
            "\n",
            "Training fold 3...\n",
            "Epoch 1/15\n",
            "\u001b[1m817/817\u001b[0m \u001b[32m━━━━━━━━━━━━━━━━━━━━\u001b[0m\u001b[37m\u001b[0m \u001b[1m45s\u001b[0m 47ms/step - accuracy: 0.1163 - loss: 3.2722 - val_accuracy: 0.4772 - val_loss: 1.5720\n",
            "Epoch 2/15\n",
            "\u001b[1m817/817\u001b[0m \u001b[32m━━━━━━━━━━━━━━━━━━━━\u001b[0m\u001b[37m\u001b[0m \u001b[1m71s\u001b[0m 37ms/step - accuracy: 0.5558 - loss: 1.3607 - val_accuracy: 0.7874 - val_loss: 0.6251\n",
            "Epoch 3/15\n",
            "\u001b[1m817/817\u001b[0m \u001b[32m━━━━━━━━━━━━━━━━━━━━\u001b[0m\u001b[37m\u001b[0m \u001b[1m44s\u001b[0m 40ms/step - accuracy: 0.7931 - loss: 0.6338 - val_accuracy: 0.8803 - val_loss: 0.4219\n",
            "Epoch 4/15\n",
            "\u001b[1m817/817\u001b[0m \u001b[32m━━━━━━━━━━━━━━━━━━━━\u001b[0m\u001b[37m\u001b[0m \u001b[1m38s\u001b[0m 37ms/step - accuracy: 0.8807 - loss: 0.4060 - val_accuracy: 0.7804 - val_loss: 0.7089\n",
            "Epoch 5/15\n",
            "\u001b[1m817/817\u001b[0m \u001b[32m━━━━━━━━━━━━━━━━━━━━\u001b[0m\u001b[37m\u001b[0m \u001b[1m33s\u001b[0m 40ms/step - accuracy: 0.8266 - loss: 0.6152 - val_accuracy: 0.9464 - val_loss: 0.1605\n",
            "Epoch 6/15\n",
            "\u001b[1m817/817\u001b[0m \u001b[32m━━━━━━━━━━━━━━━━━━━━\u001b[0m\u001b[37m\u001b[0m \u001b[1m38s\u001b[0m 37ms/step - accuracy: 0.9499 - loss: 0.1906 - val_accuracy: 0.9304 - val_loss: 0.2672\n",
            "Epoch 7/15\n",
            "\u001b[1m817/817\u001b[0m \u001b[32m━━━━━━━━━━━━━━━━━━━━\u001b[0m\u001b[37m\u001b[0m \u001b[1m41s\u001b[0m 37ms/step - accuracy: 0.9621 - loss: 0.1416 - val_accuracy: 0.9536 - val_loss: 0.1942\n",
            "Epoch 8/15\n",
            "\u001b[1m817/817\u001b[0m \u001b[32m━━━━━━━━━━━━━━━━━━━━\u001b[0m\u001b[37m\u001b[0m \u001b[1m41s\u001b[0m 37ms/step - accuracy: 0.9727 - loss: 0.1141 - val_accuracy: 0.9728 - val_loss: 0.1220\n",
            "Epoch 9/15\n",
            "\u001b[1m817/817\u001b[0m \u001b[32m━━━━━━━━━━━━━━━━━━━━\u001b[0m\u001b[37m\u001b[0m \u001b[1m41s\u001b[0m 37ms/step - accuracy: 0.8888 - loss: 0.5359 - val_accuracy: 0.9766 - val_loss: 0.0911\n",
            "Epoch 10/15\n",
            "\u001b[1m817/817\u001b[0m \u001b[32m━━━━━━━━━━━━━━━━━━━━\u001b[0m\u001b[37m\u001b[0m \u001b[1m41s\u001b[0m 37ms/step - accuracy: 0.9767 - loss: 0.0998 - val_accuracy: 0.9780 - val_loss: 0.0979\n",
            "Epoch 11/15\n",
            "\u001b[1m817/817\u001b[0m \u001b[32m━━━━━━━━━━━━━━━━━━━━\u001b[0m\u001b[37m\u001b[0m \u001b[1m30s\u001b[0m 37ms/step - accuracy: 0.9806 - loss: 0.0874 - val_accuracy: 0.9714 - val_loss: 0.1325\n",
            "Epoch 12/15\n",
            "\u001b[1m817/817\u001b[0m \u001b[32m━━━━━━━━━━━━━━━━━━━━\u001b[0m\u001b[37m\u001b[0m \u001b[1m41s\u001b[0m 37ms/step - accuracy: 0.9493 - loss: 0.2321 - val_accuracy: 0.9747 - val_loss: 0.1216\n",
            "\u001b[1m409/409\u001b[0m \u001b[32m━━━━━━━━━━━━━━━━━━━━\u001b[0m\u001b[37m\u001b[0m \u001b[1m3s\u001b[0m 8ms/step\n"
          ]
        },
        {
          "output_type": "stream",
          "name": "stderr",
          "text": [
            "WARNING:absl:You are saving your model as an HDF5 file via `model.save()` or `keras.saving.save_model(model)`. This file format is considered legacy. We recommend using instead the native Keras format, e.g. `model.save('my_model.keras')` or `keras.saving.save_model(model, 'my_model.keras')`. \n"
          ]
        },
        {
          "output_type": "stream",
          "name": "stdout",
          "text": [
            "Fold 3 - Validation Accuracy: 0.9766\n"
          ]
        }
      ]
    },
    {
      "cell_type": "code",
      "source": [
        "# Summary of results\n",
        "print(\"\\nCross-Validation Results:\")\n",
        "print(f\"Average Validation Accuracy: {np.mean(accuracies):.4f}\")\n",
        "print(f\"Standard Deviation: {np.std(accuracies):.4f}\")"
      ],
      "metadata": {
        "id": "UCnFhUfm-NP3",
        "colab": {
          "base_uri": "https://localhost:8080/"
        },
        "outputId": "80d2c700-3e1b-4ae0-c353-0e9f37738997"
      },
      "execution_count": 24,
      "outputs": [
        {
          "output_type": "stream",
          "name": "stdout",
          "text": [
            "\n",
            "Cross-Validation Results:\n",
            "Average Validation Accuracy: 0.9844\n",
            "Standard Deviation: 0.0059\n"
          ]
        }
      ]
    },
    {
      "cell_type": "markdown",
      "source": [
        "#Evaluate the model"
      ],
      "metadata": {
        "id": "YOfs3oVaRY_k"
      }
    },
    {
      "cell_type": "markdown",
      "source": [
        "##Accuracy and loss curve"
      ],
      "metadata": {
        "id": "F1UoPYf4pxIY"
      }
    },
    {
      "cell_type": "code",
      "source": [
        "# Compute averages for each epoch\n",
        "avg_train_accuracy = [sum(values) / len(values) for values in zip(*train_accuracies)]\n",
        "avg_val_accuracy = [sum(values) / len(values) for values in zip(*val_accuracies)]\n",
        "avg_train_loss = [sum(values) / len(values) for values in zip(*train_losses)]\n",
        "avg_val_loss = [sum(values) / len(values) for values in zip(*val_losses)]"
      ],
      "metadata": {
        "id": "q54bGOj7kr20"
      },
      "execution_count": 25,
      "outputs": []
    },
    {
      "cell_type": "code",
      "source": [
        "# Creating epoch numbers starting from 1\n",
        "epochs_range = range(1, EPOCHS + 1)\n",
        "\n",
        "# Plot accuracy\n",
        "plt.plot(epochs_range, avg_train_accuracy, label='train_accuracy')\n",
        "plt.plot(epochs_range, avg_val_accuracy, label='val_accuracy')\n",
        "plt.title('Model Accuracy')\n",
        "plt.ylabel('Accuracy')\n",
        "plt.xlabel('Epoch')\n",
        "plt.xticks(epochs_range)  # Set x-axis ticks to match epoch numbers\n",
        "plt.legend(loc='upper left')\n",
        "plt.show()\n",
        "\n",
        "# Plot loss\n",
        "plt.plot(epochs_range, avg_train_loss, label='train_loss')\n",
        "plt.plot(epochs_range, avg_val_loss, label='val_loss')\n",
        "plt.title('Model Loss')\n",
        "plt.ylabel('Loss')\n",
        "plt.xlabel('Epoch')\n",
        "plt.xticks(epochs_range)  # Set x-axis ticks to match epoch numbers\n",
        "plt.legend(loc='upper left')\n",
        "plt.show()\n"
      ],
      "metadata": {
        "colab": {
          "base_uri": "https://localhost:8080/",
          "height": 791
        },
        "id": "NYiU-OXsg11p",
        "outputId": "ae005a1e-7054-4c4c-e0ea-e49d09ed9d5d"
      },
      "execution_count": 26,
      "outputs": [
        {
          "output_type": "error",
          "ename": "ValueError",
          "evalue": "x and y must have same first dimension, but have shapes (15,) and (11,)",
          "traceback": [
            "\u001b[0;31m---------------------------------------------------------------------------\u001b[0m",
            "\u001b[0;31mValueError\u001b[0m                                Traceback (most recent call last)",
            "\u001b[0;32m<ipython-input-26-c5d4518a7825>\u001b[0m in \u001b[0;36m<cell line: 5>\u001b[0;34m()\u001b[0m\n\u001b[1;32m      3\u001b[0m \u001b[0;34m\u001b[0m\u001b[0m\n\u001b[1;32m      4\u001b[0m \u001b[0;31m# Plot accuracy\u001b[0m\u001b[0;34m\u001b[0m\u001b[0;34m\u001b[0m\u001b[0m\n\u001b[0;32m----> 5\u001b[0;31m \u001b[0mplt\u001b[0m\u001b[0;34m.\u001b[0m\u001b[0mplot\u001b[0m\u001b[0;34m(\u001b[0m\u001b[0mepochs_range\u001b[0m\u001b[0;34m,\u001b[0m \u001b[0mavg_train_accuracy\u001b[0m\u001b[0;34m,\u001b[0m \u001b[0mlabel\u001b[0m\u001b[0;34m=\u001b[0m\u001b[0;34m'train_accuracy'\u001b[0m\u001b[0;34m)\u001b[0m\u001b[0;34m\u001b[0m\u001b[0;34m\u001b[0m\u001b[0m\n\u001b[0m\u001b[1;32m      6\u001b[0m \u001b[0mplt\u001b[0m\u001b[0;34m.\u001b[0m\u001b[0mplot\u001b[0m\u001b[0;34m(\u001b[0m\u001b[0mepochs_range\u001b[0m\u001b[0;34m,\u001b[0m \u001b[0mavg_val_accuracy\u001b[0m\u001b[0;34m,\u001b[0m \u001b[0mlabel\u001b[0m\u001b[0;34m=\u001b[0m\u001b[0;34m'val_accuracy'\u001b[0m\u001b[0;34m)\u001b[0m\u001b[0;34m\u001b[0m\u001b[0;34m\u001b[0m\u001b[0m\n\u001b[1;32m      7\u001b[0m \u001b[0mplt\u001b[0m\u001b[0;34m.\u001b[0m\u001b[0mtitle\u001b[0m\u001b[0;34m(\u001b[0m\u001b[0;34m'Model Accuracy'\u001b[0m\u001b[0;34m)\u001b[0m\u001b[0;34m\u001b[0m\u001b[0;34m\u001b[0m\u001b[0m\n",
            "\u001b[0;32m/usr/local/lib/python3.10/dist-packages/matplotlib/pyplot.py\u001b[0m in \u001b[0;36mplot\u001b[0;34m(scalex, scaley, data, *args, **kwargs)\u001b[0m\n\u001b[1;32m   3576\u001b[0m     \u001b[0;34m**\u001b[0m\u001b[0mkwargs\u001b[0m\u001b[0;34m,\u001b[0m\u001b[0;34m\u001b[0m\u001b[0;34m\u001b[0m\u001b[0m\n\u001b[1;32m   3577\u001b[0m ) -> list[Line2D]:\n\u001b[0;32m-> 3578\u001b[0;31m     return gca().plot(\n\u001b[0m\u001b[1;32m   3579\u001b[0m         \u001b[0;34m*\u001b[0m\u001b[0margs\u001b[0m\u001b[0;34m,\u001b[0m\u001b[0;34m\u001b[0m\u001b[0;34m\u001b[0m\u001b[0m\n\u001b[1;32m   3580\u001b[0m         \u001b[0mscalex\u001b[0m\u001b[0;34m=\u001b[0m\u001b[0mscalex\u001b[0m\u001b[0;34m,\u001b[0m\u001b[0;34m\u001b[0m\u001b[0;34m\u001b[0m\u001b[0m\n",
            "\u001b[0;32m/usr/local/lib/python3.10/dist-packages/matplotlib/axes/_axes.py\u001b[0m in \u001b[0;36mplot\u001b[0;34m(self, scalex, scaley, data, *args, **kwargs)\u001b[0m\n\u001b[1;32m   1719\u001b[0m         \"\"\"\n\u001b[1;32m   1720\u001b[0m         \u001b[0mkwargs\u001b[0m \u001b[0;34m=\u001b[0m \u001b[0mcbook\u001b[0m\u001b[0;34m.\u001b[0m\u001b[0mnormalize_kwargs\u001b[0m\u001b[0;34m(\u001b[0m\u001b[0mkwargs\u001b[0m\u001b[0;34m,\u001b[0m \u001b[0mmlines\u001b[0m\u001b[0;34m.\u001b[0m\u001b[0mLine2D\u001b[0m\u001b[0;34m)\u001b[0m\u001b[0;34m\u001b[0m\u001b[0;34m\u001b[0m\u001b[0m\n\u001b[0;32m-> 1721\u001b[0;31m         \u001b[0mlines\u001b[0m \u001b[0;34m=\u001b[0m \u001b[0;34m[\u001b[0m\u001b[0;34m*\u001b[0m\u001b[0mself\u001b[0m\u001b[0;34m.\u001b[0m\u001b[0m_get_lines\u001b[0m\u001b[0;34m(\u001b[0m\u001b[0mself\u001b[0m\u001b[0;34m,\u001b[0m \u001b[0;34m*\u001b[0m\u001b[0margs\u001b[0m\u001b[0;34m,\u001b[0m \u001b[0mdata\u001b[0m\u001b[0;34m=\u001b[0m\u001b[0mdata\u001b[0m\u001b[0;34m,\u001b[0m \u001b[0;34m**\u001b[0m\u001b[0mkwargs\u001b[0m\u001b[0;34m)\u001b[0m\u001b[0;34m]\u001b[0m\u001b[0;34m\u001b[0m\u001b[0;34m\u001b[0m\u001b[0m\n\u001b[0m\u001b[1;32m   1722\u001b[0m         \u001b[0;32mfor\u001b[0m \u001b[0mline\u001b[0m \u001b[0;32min\u001b[0m \u001b[0mlines\u001b[0m\u001b[0;34m:\u001b[0m\u001b[0;34m\u001b[0m\u001b[0;34m\u001b[0m\u001b[0m\n\u001b[1;32m   1723\u001b[0m             \u001b[0mself\u001b[0m\u001b[0;34m.\u001b[0m\u001b[0madd_line\u001b[0m\u001b[0;34m(\u001b[0m\u001b[0mline\u001b[0m\u001b[0;34m)\u001b[0m\u001b[0;34m\u001b[0m\u001b[0;34m\u001b[0m\u001b[0m\n",
            "\u001b[0;32m/usr/local/lib/python3.10/dist-packages/matplotlib/axes/_base.py\u001b[0m in \u001b[0;36m__call__\u001b[0;34m(self, axes, data, *args, **kwargs)\u001b[0m\n\u001b[1;32m    301\u001b[0m                 \u001b[0mthis\u001b[0m \u001b[0;34m+=\u001b[0m \u001b[0margs\u001b[0m\u001b[0;34m[\u001b[0m\u001b[0;36m0\u001b[0m\u001b[0;34m]\u001b[0m\u001b[0;34m,\u001b[0m\u001b[0;34m\u001b[0m\u001b[0;34m\u001b[0m\u001b[0m\n\u001b[1;32m    302\u001b[0m                 \u001b[0margs\u001b[0m \u001b[0;34m=\u001b[0m \u001b[0margs\u001b[0m\u001b[0;34m[\u001b[0m\u001b[0;36m1\u001b[0m\u001b[0;34m:\u001b[0m\u001b[0;34m]\u001b[0m\u001b[0;34m\u001b[0m\u001b[0;34m\u001b[0m\u001b[0m\n\u001b[0;32m--> 303\u001b[0;31m             yield from self._plot_args(\n\u001b[0m\u001b[1;32m    304\u001b[0m                 axes, this, kwargs, ambiguous_fmt_datakey=ambiguous_fmt_datakey)\n\u001b[1;32m    305\u001b[0m \u001b[0;34m\u001b[0m\u001b[0m\n",
            "\u001b[0;32m/usr/local/lib/python3.10/dist-packages/matplotlib/axes/_base.py\u001b[0m in \u001b[0;36m_plot_args\u001b[0;34m(self, axes, tup, kwargs, return_kwargs, ambiguous_fmt_datakey)\u001b[0m\n\u001b[1;32m    497\u001b[0m \u001b[0;34m\u001b[0m\u001b[0m\n\u001b[1;32m    498\u001b[0m         \u001b[0;32mif\u001b[0m \u001b[0mx\u001b[0m\u001b[0;34m.\u001b[0m\u001b[0mshape\u001b[0m\u001b[0;34m[\u001b[0m\u001b[0;36m0\u001b[0m\u001b[0;34m]\u001b[0m \u001b[0;34m!=\u001b[0m \u001b[0my\u001b[0m\u001b[0;34m.\u001b[0m\u001b[0mshape\u001b[0m\u001b[0;34m[\u001b[0m\u001b[0;36m0\u001b[0m\u001b[0;34m]\u001b[0m\u001b[0;34m:\u001b[0m\u001b[0;34m\u001b[0m\u001b[0;34m\u001b[0m\u001b[0m\n\u001b[0;32m--> 499\u001b[0;31m             raise ValueError(f\"x and y must have same first dimension, but \"\n\u001b[0m\u001b[1;32m    500\u001b[0m                              f\"have shapes {x.shape} and {y.shape}\")\n\u001b[1;32m    501\u001b[0m         \u001b[0;32mif\u001b[0m \u001b[0mx\u001b[0m\u001b[0;34m.\u001b[0m\u001b[0mndim\u001b[0m \u001b[0;34m>\u001b[0m \u001b[0;36m2\u001b[0m \u001b[0;32mor\u001b[0m \u001b[0my\u001b[0m\u001b[0;34m.\u001b[0m\u001b[0mndim\u001b[0m \u001b[0;34m>\u001b[0m \u001b[0;36m2\u001b[0m\u001b[0;34m:\u001b[0m\u001b[0;34m\u001b[0m\u001b[0;34m\u001b[0m\u001b[0m\n",
            "\u001b[0;31mValueError\u001b[0m: x and y must have same first dimension, but have shapes (15,) and (11,)"
          ]
        },
        {
          "output_type": "display_data",
          "data": {
            "text/plain": [
              "<Figure size 640x480 with 1 Axes>"
            ],
            "image/png": "[encoded data removed]"
          },
          "metadata": {}
        }
      ]
    },
    {
      "cell_type": "markdown",
      "source": [
        "##Classification report"
      ],
      "metadata": {
        "id": "cFPlgquKp2-V"
      }
    },
    {
      "cell_type": "code",
      "source": [
        "import pandas as pd\n",
        "\n",
        "# Compute average classification report\n",
        "avg_report = {}\n",
        "\n",
        "# List all class labels (assuming the same structure for all reports)\n",
        "all_classes = classification_reports[0].keys()\n",
        "\n",
        "# Iterate through each metric and compute the average\n",
        "for class_label in all_classes:\n",
        "    if isinstance(classification_reports[0][class_label], dict):  # Metrics for a specific class\n",
        "        avg_report[class_label] = {}\n",
        "        for metric in classification_reports[0][class_label]:\n",
        "            # Compute the average of the metric across all folds\n",
        "            avg_report[class_label][metric] = np.mean([\n",
        "                report[class_label][metric] for report in classification_reports\n",
        "            ])\n",
        "    else:  # Aggregate overall metrics (e.g., accuracy)\n",
        "        avg_report[class_label] = np.mean([\n",
        "            report[class_label] for report in classification_reports\n",
        "        ])\n",
        "\n",
        "#print(\"Average Classification Report:\", average_report)\n",
        "avg_report"
      ],
      "metadata": {
        "colab": {
          "base_uri": "https://localhost:8080/"
        },
        "collapsed": true,
        "id": "NuKuAbkIuUgF",
        "outputId": "30e0bc0b-d8ca-476c-e6e5-16d8947a13fc"
      },
      "execution_count": 27,
      "outputs": [
        {
          "output_type": "execute_result",
          "data": {
            "text/plain": [
              "{'0': {'precision': 0.9903300399411394,\n",
              "  'recall': 0.9619047619047619,\n",
              "  'f1-score': 0.9756665621158646,\n",
              "  'support': 70.0},\n",
              " '1': {'precision': 0.9963529134835953,\n",
              "  'recall': 0.9833333333333334,\n",
              "  'f1-score': 0.9897691571234373,\n",
              "  'support': 740.0},\n",
              " '2': {'precision': 0.9822913761675539,\n",
              "  'recall': 0.9862222222222221,\n",
              "  'f1-score': 0.9841333493639413,\n",
              "  'support': 750.0},\n",
              " '3': {'precision': 0.9921924938361792,\n",
              "  'recall': 0.9893617021276597,\n",
              "  'f1-score': 0.9907710492816877,\n",
              "  'support': 470.0},\n",
              " '4': {'precision': 0.9904556712713813,\n",
              "  'recall': 0.9944444444444445,\n",
              "  'f1-score': 0.9924425386247937,\n",
              "  'support': 660.0},\n",
              " '5': {'precision': 0.9787042907873994,\n",
              "  'recall': 0.9876344086021506,\n",
              "  'f1-score': 0.9831318336014849,\n",
              "  'support': 620.0},\n",
              " '6': {'precision': 0.9746611916533222,\n",
              "  'recall': 0.9976190476190476,\n",
              "  'f1-score': 0.9859561821509937,\n",
              "  'support': 140.0},\n",
              " '7': {'precision': 0.9971959248225385,\n",
              "  'recall': 0.9840277777777778,\n",
              "  'f1-score': 0.9905552888060486,\n",
              "  'support': 480.0},\n",
              " '8': {'precision': 0.9781538027439131,\n",
              "  'recall': 0.9829787234042554,\n",
              "  'f1-score': 0.9805439056952096,\n",
              "  'support': 470.0},\n",
              " '9': {'precision': 0.9986380532647768,\n",
              "  'recall': 0.9965986394557823,\n",
              "  'f1-score': 0.9976152208943337,\n",
              "  'support': 490.0},\n",
              " '10': {'precision': 0.9990064580228514,\n",
              "  'recall': 0.9980099502487563,\n",
              "  'f1-score': 0.9985070897447398,\n",
              "  'support': 670.0},\n",
              " '11': {'precision': 0.9189842935405816,\n",
              "  'recall': 0.9893939393939394,\n",
              "  'f1-score': 0.9507424479352534,\n",
              "  'support': 440.0},\n",
              " '12': {'precision': 0.9990435178781193,\n",
              "  'recall': 0.9952380952380953,\n",
              "  'f1-score': 0.9971367200790323,\n",
              "  'support': 700.0},\n",
              " '13': {'precision': 0.9976903167474127,\n",
              "  'recall': 0.9981481481481481,\n",
              "  'f1-score': 0.9979177889112542,\n",
              "  'support': 720.0},\n",
              " '14': {'precision': 0.9923857622461517,\n",
              "  'recall': 0.9974358974358974,\n",
              "  'f1-score': 0.9948938568854563,\n",
              "  'support': 260.0},\n",
              " '15': {'precision': 0.9754689754689755,\n",
              "  'recall': 0.9904761904761905,\n",
              "  'f1-score': 0.9827980804724991,\n",
              "  'support': 210.0},\n",
              " '16': {'precision': 0.9976359338061466,\n",
              "  'recall': 0.9976190476190476,\n",
              "  'f1-score': 0.9976190172493696,\n",
              "  'support': 140.0},\n",
              " '17': {'precision': 0.99552690720681,\n",
              "  'recall': 0.9963963963963964,\n",
              "  'f1-score': 0.9959501469747929,\n",
              "  'support': 370.0},\n",
              " '18': {'precision': 0.99915611814346,\n",
              "  'recall': 0.9766666666666666,\n",
              "  'f1-score': 0.9877607512059479,\n",
              "  'support': 400.0},\n",
              " '19': {'precision': 0.9817351598173515,\n",
              "  'recall': 0.9095238095238095,\n",
              "  'f1-score': 0.9423773560860464,\n",
              "  'support': 70.0},\n",
              " '20': {'precision': 0.9492559523809524,\n",
              "  'recall': 0.9472222222222221,\n",
              "  'f1-score': 0.9475435669262143,\n",
              "  'support': 120.0},\n",
              " '21': {'precision': 0.9427655677655679,\n",
              "  'recall': 0.9696969696969697,\n",
              "  'f1-score': 0.9533462033462032,\n",
              "  'support': 110.0},\n",
              " '22': {'precision': 0.9736459469283897,\n",
              "  'recall': 0.9948717948717949,\n",
              "  'f1-score': 0.9837932024513152,\n",
              "  'support': 130.0},\n",
              " '23': {'precision': 0.9329926946876098,\n",
              "  'recall': 0.9764705882352942,\n",
              "  'f1-score': 0.9541728682641475,\n",
              "  'support': 170.0},\n",
              " '24': {'precision': 0.9706742398622265,\n",
              "  'recall': 0.9740740740740742,\n",
              "  'f1-score': 0.9721849957980622,\n",
              "  'support': 90.0},\n",
              " '25': {'precision': 0.9946505699571185,\n",
              "  'recall': 0.9913333333333334,\n",
              "  'f1-score': 0.9929862874923115,\n",
              "  'support': 500.0},\n",
              " '26': {'precision': 0.9590913122623369,\n",
              "  'recall': 0.9666666666666667,\n",
              "  'f1-score': 0.9626858635785643,\n",
              "  'support': 200.0},\n",
              " '27': {'precision': 0.9121693121693122,\n",
              "  'recall': 0.9791666666666666,\n",
              "  'f1-score': 0.9442372070779531,\n",
              "  'support': 80.0},\n",
              " '28': {'precision': 0.9744330923101874,\n",
              "  'recall': 0.9814814814814815,\n",
              "  'f1-score': 0.9778940882348369,\n",
              "  'support': 180.0},\n",
              " '29': {'precision': 0.9270148575704131,\n",
              "  'recall': 0.8666666666666667,\n",
              "  'f1-score': 0.8955766876401473,\n",
              "  'support': 90.0},\n",
              " '30': {'precision': 0.98856045821632,\n",
              "  'recall': 0.7155555555555555,\n",
              "  'f1-score': 0.7758790047924439,\n",
              "  'support': 150.0},\n",
              " '31': {'precision': 0.9987228607918263,\n",
              "  'recall': 0.9794871794871796,\n",
              "  'f1-score': 0.9889409551900251,\n",
              "  'support': 260.0},\n",
              " '32': {'precision': 0.9485798754091438,\n",
              "  'recall': 0.975,\n",
              "  'f1-score': 0.9609034775347585,\n",
              "  'support': 80.0},\n",
              " '33': {'precision': 0.9817821067821068,\n",
              "  'recall': 0.9956458451996709,\n",
              "  'f1-score': 0.9885536466181106,\n",
              "  'support': 229.66666666666666},\n",
              " '34': {'precision': 0.9813519813519814,\n",
              "  'recall': 0.9880952380952381,\n",
              "  'f1-score': 0.9846113286814387,\n",
              "  'support': 140.0},\n",
              " '35': {'precision': 0.9983249581239532,\n",
              "  'recall': 0.9941666666666666,\n",
              "  'f1-score': 0.9962411242959295,\n",
              "  'support': 400.0},\n",
              " '36': {'precision': 0.9898023096496379,\n",
              "  'recall': 0.9948717948717949,\n",
              "  'f1-score': 0.9923273406032026,\n",
              "  'support': 130.0},\n",
              " '37': {'precision': 0.9861111111111112,\n",
              "  'recall': 0.9857142857142858,\n",
              "  'f1-score': 0.9857794107641015,\n",
              "  'support': 70.0},\n",
              " '38': {'precision': 0.9971098265895953,\n",
              "  'recall': 0.996135265700483,\n",
              "  'f1-score': 0.9966190444137807,\n",
              "  'support': 690.0},\n",
              " '39': {'precision': 0.9933333333333333,\n",
              "  'recall': 0.9866666666666667,\n",
              "  'f1-score': 0.98996632996633,\n",
              "  'support': 100.0},\n",
              " '40': {'precision': 0.9500140114894213,\n",
              "  'recall': 0.9805555555555555,\n",
              "  'f1-score': 0.9647584940312214,\n",
              "  'support': 120.0},\n",
              " '41': {'precision': 0.9878048780487805,\n",
              "  'recall': 0.9500000000000001,\n",
              "  'f1-score': 0.967971994115785,\n",
              "  'support': 80.0},\n",
              " '42': {'precision': 0.971928277483833,\n",
              "  'recall': 0.9791666666666666,\n",
              "  'f1-score': 0.9752242711729645,\n",
              "  'support': 80.0},\n",
              " 'accuracy': 0.984442147049573,\n",
              " 'macro avg': {'precision': 0.9778076450029026,\n",
              "  'recall': 0.9739940554914724,\n",
              "  'f1-score': 0.9736857147951636,\n",
              "  'support': 13069.666666666666},\n",
              " 'weighted avg': {'precision': 0.9853293656958287,\n",
              "  'recall': 0.984442147049573,\n",
              "  'f1-score': 0.9837564015489036,\n",
              "  'support': 13069.666666666666}}"
            ]
          },
          "metadata": {},
          "execution_count": 27
        }
      ]
    },
    {
      "cell_type": "markdown",
      "source": [
        "##Confusion Matrix"
      ],
      "metadata": {
        "id": "S-jckeJTvtm7"
      }
    },
    {
      "cell_type": "code",
      "source": [
        "# Compute the average confusion matrix\n",
        "average_confusion_matrix = cumulative_confusion_matrix / skf.get_n_splits()"
      ],
      "metadata": {
        "id": "XE4Fuja2vqSu"
      },
      "execution_count": 28,
      "outputs": []
    },
    {
      "cell_type": "code",
      "source": [
        "from sklearn.metrics import confusion_matrix\n",
        "import numpy as np\n",
        "import seaborn as sns\n",
        "import matplotlib.pyplot as plt\n",
        "\n",
        "# Plot the average confusion matrix\n",
        "plt.figure(figsize=(34, 16))\n",
        "sns.heatmap(\n",
        "    average_confusion_matrix,\n",
        "    annot=True,\n",
        "    fmt=\".0f\",\n",
        "    cmap=\"summer\",\n",
        "    xticklabels=range(num_classes),\n",
        "    yticklabels=range(num_classes)\n",
        ")\n",
        "plt.title(\"Average Confusion Matrix\")\n",
        "plt.xlabel(\"Predicted Label\")\n",
        "plt.ylabel(\"True Label\")\n",
        "plt.show()"
      ],
      "metadata": {
        "colab": {
          "base_uri": "https://localhost:8080/",
          "height": 559
        },
        "id": "yD0TEwL7wSzJ",
        "outputId": "04e1103f-6fff-4504-ed37-59daad8abf5d"
      },
      "execution_count": 29,
      "outputs": [
        {
          "output_type": "display_data",
          "data": {
            "text/plain": [
              "<Figure size 3400x1600 with 2 Axes>"
            ],
            "image/png": "[encoded data removed]"
          },
          "metadata": {}
        }
      ]
    },
    {
      "cell_type": "markdown",
      "source": [
        "#Evaluate on test data (unseen data)"
      ],
      "metadata": {
        "id": "f8LGcWkqS0v7"
      }
    },
    {
      "cell_type": "markdown",
      "source": [
        "##Load test data"
      ],
      "metadata": {
        "id": "niO3PB4tlclY"
      }
    },
    {
      "cell_type": "code",
      "source": [
        "# Load the test dataset\n",
        "def load_test_data(test_dir):\n",
        "    images = []\n",
        "    img_names = []\n",
        "\n",
        "    # Valid image file extensions\n",
        "    valid_extensions = ['.jpg', '.jpeg', '.png', '.ppm']\n",
        "\n",
        "    for img_file in os.listdir(test_dir):\n",
        "        img_path = os.path.join(test_dir, img_file)\n",
        "\n",
        "        # Check if the file is an image\n",
        "        _, file_extension = os.path.splitext(img_file)\n",
        "        if file_extension.lower() not in valid_extensions:\n",
        "            print(f\"Skipping non-image file: {img_file}\")\n",
        "            continue  # Skip non-image files\n",
        "\n",
        "        # Read and resize the image\n",
        "        image = cv2.imread(img_path)\n",
        "        image = cv2.resize(image, (IMG_SIZE, IMG_SIZE))\n",
        "\n",
        "        # Append the image and image file name to the lists\n",
        "        images.append(image)\n",
        "        img_names.append(img_file)\n",
        "\n",
        "    # Convert images to a NumPy array\n",
        "    images = np.array(images, dtype='float32') / 255.0  # Normalize images\n",
        "\n",
        "    return images, img_names\n",
        "\n",
        "# Load test images\n",
        "X_test, test_img_names = load_test_data(test_dir)"
      ],
      "metadata": {
        "id": "9SyfKKZ9TAzv",
        "colab": {
          "base_uri": "https://localhost:8080/"
        },
        "outputId": "a5039723-03b4-412e-f249-3c8be49fded8"
      },
      "execution_count": 15,
      "outputs": [
        {
          "output_type": "stream",
          "name": "stdout",
          "text": [
            "Skipping non-image file: GT-final_test.test.csv\n"
          ]
        }
      ]
    },
    {
      "cell_type": "code",
      "source": [
        "# Path to test CSV file\n",
        "test_csv_path = '/content/drive/My Drive/Data/GTSRB/Test/GTSRB/Final_Test/Images/GT-final_test.test.csv'\n",
        "# Load the test labels from the CSV file\n",
        "test_data = pd.read_csv(test_csv_path, sep=\";\")"
      ],
      "metadata": {
        "id": "utnPttZayKn2"
      },
      "execution_count": 16,
      "outputs": []
    },
    {
      "cell_type": "markdown",
      "source": [
        "##Make predictions"
      ],
      "metadata": {
        "id": "2xQdAfNflFWs"
      }
    },
    {
      "cell_type": "code",
      "source": [
        "# Make predictions using the average of saved models\n",
        "predictions = np.zeros((X_test.shape[0], num_classes))\n",
        "\n",
        "for model_path in model_paths:\n",
        "    print(f\"Loading model from {model_path}\")\n",
        "    model = keras.models.load_model(model_path)\n",
        "    predictions += model.predict(X_test)\n",
        "\n",
        "# Average predictions\n",
        "predictions /= len(model_paths)\n",
        "\n",
        "# Get the class index with the highest probability\n",
        "predicted_classes = np.argmax(predictions, axis=1)"
      ],
      "metadata": {
        "id": "CSpftXPgTO4b",
        "colab": {
          "base_uri": "https://localhost:8080/"
        },
        "outputId": "bfc8771d-a422-4f81-a2e4-6ea317c4517f"
      },
      "execution_count": 34,
      "outputs": [
        {
          "output_type": "stream",
          "name": "stdout",
          "text": [
            "Loading model from /content/drive/My Drive/UH/Data Science Project/GTSRB/Models/model_fold_1.h5\n"
          ]
        },
        {
          "output_type": "stream",
          "name": "stderr",
          "text": [
            "WARNING:absl:Compiled the loaded model, but the compiled metrics have yet to be built. `model.compile_metrics` will be empty until you train or evaluate the model.\n"
          ]
        },
        {
          "output_type": "stream",
          "name": "stdout",
          "text": [
            "\u001b[1m395/395\u001b[0m \u001b[32m━━━━━━━━━━━━━━━━━━━━\u001b[0m\u001b[37m\u001b[0m \u001b[1m3s\u001b[0m 7ms/step\n",
            "Loading model from /content/drive/My Drive/UH/Data Science Project/GTSRB/Models/model_fold_2.h5\n"
          ]
        },
        {
          "output_type": "stream",
          "name": "stderr",
          "text": [
            "WARNING:absl:Compiled the loaded model, but the compiled metrics have yet to be built. `model.compile_metrics` will be empty until you train or evaluate the model.\n"
          ]
        },
        {
          "output_type": "stream",
          "name": "stdout",
          "text": [
            "\u001b[1m395/395\u001b[0m \u001b[32m━━━━━━━━━━━━━━━━━━━━\u001b[0m\u001b[37m\u001b[0m \u001b[1m3s\u001b[0m 7ms/step\n",
            "Loading model from /content/drive/My Drive/UH/Data Science Project/GTSRB/Models/model_fold_3.h5\n"
          ]
        },
        {
          "output_type": "stream",
          "name": "stderr",
          "text": [
            "WARNING:absl:Compiled the loaded model, but the compiled metrics have yet to be built. `model.compile_metrics` will be empty until you train or evaluate the model.\n"
          ]
        },
        {
          "output_type": "stream",
          "name": "stdout",
          "text": [
            "\u001b[1m395/395\u001b[0m \u001b[32m━━━━━━━━━━━━━━━━━━━━\u001b[0m\u001b[37m\u001b[0m \u001b[1m3s\u001b[0m 6ms/step\n"
          ]
        }
      ]
    },
    {
      "cell_type": "markdown",
      "source": [
        "##Save predictions"
      ],
      "metadata": {
        "id": "O85RZdtWTURp"
      }
    },
    {
      "cell_type": "code",
      "source": [
        "# Create a DataFrame to save the image file names and predicted classes\n",
        "result_df = pd.DataFrame({\n",
        "    'Filename': test_img_names,\n",
        "    'Predicted Class': predicted_classes\n",
        "})\n",
        "\n",
        "# Ensure the filenames are sorted in ascending order in the result file\n",
        "result_df = result_df.sort_values(by='Filename')\n",
        "\n",
        "# Save the results to a CSV file\n",
        "result_df.to_csv('gtsrb_test_predictions.csv', index=False)\n",
        "print(\"Predictions saved to 'gtsrb_test_predictions.csv'\")"
      ],
      "metadata": {
        "id": "dsE9s43oZxZ9",
        "colab": {
          "base_uri": "https://localhost:8080/"
        },
        "outputId": "6b983745-c144-4fab-db13-0030e58d6e19"
      },
      "execution_count": 35,
      "outputs": [
        {
          "output_type": "stream",
          "name": "stdout",
          "text": [
            "Predictions saved to 'gtsrb_test_predictions.csv'\n"
          ]
        }
      ]
    },
    {
      "cell_type": "markdown",
      "source": [
        "##Print test accuracy"
      ],
      "metadata": {
        "id": "r-g96E9mTtPY"
      }
    },
    {
      "cell_type": "code",
      "source": [
        "import pandas as pd\n",
        "\n",
        "# Load your predictions\n",
        "predictions_df = pd.read_csv('gtsrb_test_predictions.csv')\n",
        "\n",
        "# Load the ground truth file (downloaded separately)\n",
        "ground_truth_df = pd.read_csv('/content/drive/My Drive/Data/GTSRB/GT-final_test.csv', sep=';')\n",
        "\n",
        "# Merge both dataframes on the 'Filename' column\n",
        "merged_df = pd.merge(predictions_df, ground_truth_df[['Filename', 'ClassId']], on='Filename')\n",
        "\n",
        "# Calculate accuracy by comparing predicted classes with actual classes\n",
        "accuracy = (merged_df['Predicted Class'] == merged_df['ClassId']).mean()\n",
        "\n",
        "print(f\"Test Accuracy: {accuracy * 100:.2f}%\")"
      ],
      "metadata": {
        "id": "VPLJ8FH4TFcT",
        "colab": {
          "base_uri": "https://localhost:8080/"
        },
        "outputId": "cfafb578-c452-411d-8c45-1b42bf834e3a"
      },
      "execution_count": 36,
      "outputs": [
        {
          "output_type": "stream",
          "name": "stdout",
          "text": [
            "Test Accuracy: 96.43%\n"
          ]
        }
      ]
    },
    {
      "cell_type": "markdown",
      "source": [
        "##Classification Report"
      ],
      "metadata": {
        "id": "nJvIFdVBlRut"
      }
    },
    {
      "cell_type": "code",
      "source": [
        "# Classification Report\n",
        "from sklearn.metrics import classification_report\n",
        "print(classification_report(merged_df['Predicted Class'], merged_df['ClassId']))"
      ],
      "metadata": {
        "colab": {
          "base_uri": "https://localhost:8080/"
        },
        "id": "nbfOmDcC4KIL",
        "outputId": "dd66b392-f9e4-41d2-c9a9-cb6c5b6851e4"
      },
      "execution_count": 37,
      "outputs": [
        {
          "output_type": "stream",
          "name": "stdout",
          "text": [
            "              precision    recall  f1-score   support\n",
            "\n",
            "           0       1.00      1.00      1.00        60\n",
            "           1       0.99      0.99      0.99       719\n",
            "           2       0.99      0.98      0.99       760\n",
            "           3       0.98      0.97      0.98       454\n",
            "           4       0.99      1.00      0.99       653\n",
            "           5       0.98      0.96      0.97       648\n",
            "           6       0.85      0.97      0.90       131\n",
            "           7       0.99      1.00      0.99       445\n",
            "           8       0.94      0.98      0.96       431\n",
            "           9       1.00      0.97      0.98       497\n",
            "          10       1.00      1.00      1.00       657\n",
            "          11       1.00      0.95      0.97       442\n",
            "          12       0.98      0.99      0.98       685\n",
            "          13       1.00      1.00      1.00       719\n",
            "          14       1.00      0.99      0.99       273\n",
            "          15       1.00      0.94      0.97       224\n",
            "          16       0.99      1.00      1.00       149\n",
            "          17       0.94      1.00      0.97       340\n",
            "          18       0.79      1.00      0.88       311\n",
            "          19       0.92      0.98      0.95        56\n",
            "          20       1.00      0.85      0.92       106\n",
            "          21       0.88      0.63      0.73       126\n",
            "          22       0.74      1.00      0.85        89\n",
            "          23       0.98      0.97      0.97       152\n",
            "          24       0.99      0.73      0.84       122\n",
            "          25       0.96      0.97      0.97       475\n",
            "          26       0.84      0.82      0.83       185\n",
            "          27       0.52      0.62      0.56        50\n",
            "          28       0.97      0.92      0.94       159\n",
            "          29       1.00      0.69      0.82       130\n",
            "          30       0.71      0.95      0.81       112\n",
            "          31       0.98      1.00      0.99       265\n",
            "          32       1.00      0.97      0.98        62\n",
            "          33       1.00      0.91      0.95       232\n",
            "          34       0.99      1.00      1.00       119\n",
            "          35       0.99      1.00      0.99       385\n",
            "          36       0.97      0.99      0.98       118\n",
            "          37       0.95      1.00      0.97        57\n",
            "          38       1.00      1.00      1.00       688\n",
            "          39       0.98      0.98      0.98        90\n",
            "          40       1.00      0.68      0.81       132\n",
            "          41       0.77      0.98      0.86        47\n",
            "          42       0.74      0.89      0.81        75\n",
            "\n",
            "    accuracy                           0.96     12630\n",
            "   macro avg       0.94      0.93      0.93     12630\n",
            "weighted avg       0.97      0.96      0.96     12630\n",
            "\n"
          ]
        }
      ]
    }
  ]
}