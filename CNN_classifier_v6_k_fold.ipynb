{
  "nbformat": 4,
  "nbformat_minor": 0,
  "metadata": {
    "colab": {
      "provenance": [],
      "gpuType": "T4"
    },
    "kernelspec": {
      "name": "python3",
      "display_name": "Python 3"
    },
    "language_info": {
      "name": "python"
    },
    "accelerator": "GPU"
  },
  "cells": [
    {
      "cell_type": "markdown",
      "source": [
        "##CNN\n",
        "\n",
        "- k-fold cross-validation applied\n",
        "- IMG_SIZE = 32\n",
        "- BATCH_SIZE = 32\n",
        "- EPOCHS = 30\n",
        "- Lr = 0.001\n",
        "\n",
        "##Findings:\n",
        "Accuracy: 98.12%"
      ],
      "metadata": {
        "id": "1a_7gjnSg0Pl"
      }
    },
    {
      "cell_type": "markdown",
      "source": [
        "#Mount Google Drive and import libraries"
      ],
      "metadata": {
        "id": "y8U5oPlNQNn8"
      }
    },
    {
      "cell_type": "code",
      "execution_count": null,
      "metadata": {
        "colab": {
          "base_uri": "https://localhost:8080/"
        },
        "id": "JnqCi9fgIfyw",
        "outputId": "63b6b99c-a84a-40ad-a096-2d4434597f0b"
      },
      "outputs": [
        {
          "output_type": "stream",
          "name": "stdout",
          "text": [
            "Mounted at /content/drive\n"
          ]
        }
      ],
      "source": [
        "# Mount google drive\n",
        "from google.colab import drive\n",
        "drive.mount('/content/drive')\n",
        "\n",
        "# Import necessary libraries\n",
        "import os\n",
        "import cv2\n",
        "import numpy as np\n",
        "import pandas as pd\n",
        "import matplotlib.pyplot as plt\n",
        "from sklearn.model_selection import train_test_split\n",
        "from tensorflow.keras.utils import to_categorical\n",
        "from sklearn.metrics import classification_report, confusion_matrix\n",
        "\n",
        "import tensorflow as tf\n",
        "from keras.callbacks import EarlyStopping\n",
        "from tensorflow.keras import layers, models\n",
        "from tensorflow import keras\n",
        "from tensorflow.keras.applications import EfficientNetB0\n",
        "\n",
        "import warnings\n",
        "warnings.filterwarnings(\"ignore\")"
      ]
    },
    {
      "cell_type": "markdown",
      "source": [
        "#Dataset:"
      ],
      "metadata": {
        "id": "QjYHb_tIQu4P"
      }
    },
    {
      "cell_type": "markdown",
      "source": [
        "##Load training data"
      ],
      "metadata": {
        "id": "b9WIlH_cPvhn"
      }
    },
    {
      "cell_type": "code",
      "source": [
        "# Define paths to dataset directories\n",
        "train_dir = '/content/drive/My Drive/Data/GTSRB/Train/GTSRB/Final_Training/Images/'\n",
        "test_dir = '/content/drive/My Drive/Data/GTSRB/Test/GTSRB/Final_Test/Images/'\n",
        "\n",
        "# Define image size\n",
        "IMG_SIZE = 32  # Resize images\n",
        "BATCH_SIZE = 32\n",
        "num_classes = 43\n",
        "\n",
        "# Helper function to load images and labels\n",
        "def load_data(data_dir):\n",
        "    images = []\n",
        "    labels = []\n",
        "\n",
        "    # Valid image file extensions\n",
        "    valid_extensions = ['.jpg', '.jpeg', '.png', '.ppm']\n",
        "\n",
        "    # Loop through each subdirectory (which corresponds to a class)\n",
        "    for label_dir in os.listdir(data_dir):\n",
        "        label_path = os.path.join(data_dir, label_dir)\n",
        "\n",
        "        if os.path.isdir(label_path):\n",
        "            label = int(label_dir)  # Subdirectory name is the class label\n",
        "\n",
        "            for img_file in os.listdir(label_path):\n",
        "                img_path = os.path.join(label_path, img_file)\n",
        "\n",
        "                # Check if the file has a valid image extension\n",
        "                _, file_extension = os.path.splitext(img_file)\n",
        "                if file_extension.lower() not in valid_extensions:\n",
        "                    print(f\"Skipping non-image file: {img_file}\")\n",
        "                    continue  # Skip non-image files (e.g., CSV)\n",
        "\n",
        "                # Read the image using OpenCV\n",
        "                image = cv2.imread(img_path)\n",
        "\n",
        "                # Resize image\n",
        "                image = cv2.resize(image, (IMG_SIZE, IMG_SIZE))\n",
        "\n",
        "                # Append the image and label to the lists\n",
        "                images.append(image)\n",
        "                labels.append(label)\n",
        "\n",
        "    # Convert to NumPy arrays and normalize\n",
        "    images = np.array(images, dtype='float32') / 255.0  # Normalize images\n",
        "    labels = to_categorical(labels, num_classes)  # One-hot encode labels\n",
        "\n",
        "    return images, labels\n",
        "\n",
        "# Load training data\n",
        "images, labels = load_data(train_dir)"
      ],
      "metadata": {
        "colab": {
          "base_uri": "https://localhost:8080/"
        },
        "id": "whmxxSZNZn9L",
        "outputId": "80679099-cae8-4423-d7e5-bf0b852ede4a"
      },
      "execution_count": null,
      "outputs": [
        {
          "output_type": "stream",
          "name": "stdout",
          "text": [
            "Skipping non-image file: GT-00000.csv\n",
            "Skipping non-image file: GT-00001.csv\n",
            "Skipping non-image file: GT-00002.csv\n",
            "Skipping non-image file: GT-00003.csv\n",
            "Skipping non-image file: GT-00004.csv\n",
            "Skipping non-image file: GT-00005.csv\n",
            "Skipping non-image file: GT-00006.csv\n",
            "Skipping non-image file: GT-00007.csv\n",
            "Skipping non-image file: GT-00008.csv\n",
            "Skipping non-image file: GT-00009.csv\n",
            "Skipping non-image file: GT-00010.csv\n",
            "Skipping non-image file: GT-00011.csv\n",
            "Skipping non-image file: GT-00012.csv\n",
            "Skipping non-image file: GT-00013.csv\n",
            "Skipping non-image file: GT-00014.csv\n",
            "Skipping non-image file: GT-00015.csv\n",
            "Skipping non-image file: GT-00016.csv\n",
            "Skipping non-image file: GT-00017.csv\n",
            "Skipping non-image file: GT-00018.csv\n",
            "Skipping non-image file: GT-00019.csv\n",
            "Skipping non-image file: GT-00020.csv\n",
            "Skipping non-image file: GT-00021.csv\n",
            "Skipping non-image file: GT-00022.csv\n",
            "Skipping non-image file: GT-00023.csv\n",
            "Skipping non-image file: GT-00024.csv\n",
            "Skipping non-image file: GT-00025.csv\n",
            "Skipping non-image file: GT-00026.csv\n",
            "Skipping non-image file: GT-00027.csv\n",
            "Skipping non-image file: GT-00028.csv\n",
            "Skipping non-image file: GT-00029.csv\n",
            "Skipping non-image file: GT-00030.csv\n",
            "Skipping non-image file: GT-00031.csv\n",
            "Skipping non-image file: GT-00032.csv\n",
            "Skipping non-image file: GT-00033.csv\n",
            "Skipping non-image file: GT-00034.csv\n",
            "Skipping non-image file: GT-00035.csv\n",
            "Skipping non-image file: GT-00036.csv\n",
            "Skipping non-image file: GT-00037.csv\n",
            "Skipping non-image file: GT-00038.csv\n",
            "Skipping non-image file: GT-00039.csv\n",
            "Skipping non-image file: GT-00040.csv\n",
            "Skipping non-image file: GT-00041.csv\n",
            "Skipping non-image file: GT-00042.csv\n"
          ]
        }
      ]
    },
    {
      "cell_type": "markdown",
      "source": [
        "##Data Transformation"
      ],
      "metadata": {
        "id": "rrCpaPlpRFIH"
      }
    },
    {
      "cell_type": "code",
      "source": [
        "### Image Augmentation ###\n",
        "from tensorflow.keras.preprocessing.image import ImageDataGenerator\n",
        "\n",
        "# Create an ImageDataGenerator for augmentation\n",
        "datagen = ImageDataGenerator(\n",
        "    rotation_range=15,        # Rotate images by up to 15 degrees\n",
        "    zoom_range=0.2,           # Random zoom in/out by up to 20%\n",
        "    width_shift_range=0.1,    # Shift the image horizontally by 10%\n",
        "    height_shift_range=0.1,   # Shift the image vertically by 10%\n",
        ")\n",
        "\n",
        "# Fit the generator on the training data\n",
        "datagen.fit(images)\n",
        "\n",
        "# Create the augmented data generator for training\n",
        "train_generator = datagen.flow(images, labels, batch_size=BATCH_SIZE, shuffle=True)"
      ],
      "metadata": {
        "id": "7ZC5E9dDZ8Ia"
      },
      "execution_count": null,
      "outputs": []
    },
    {
      "cell_type": "code",
      "source": [
        "print(\"Number of samples in augmented dataset:\", len(train_generator) * BATCH_SIZE)"
      ],
      "metadata": {
        "colab": {
          "base_uri": "https://localhost:8080/"
        },
        "id": "pgsZaR5V0X1R",
        "outputId": "e4e26933-1c6e-43c2-facd-8e99316fe9f0"
      },
      "execution_count": null,
      "outputs": [
        {
          "output_type": "stream",
          "name": "stdout",
          "text": [
            "Number of samples in augmented dataset: 39232\n"
          ]
        }
      ]
    },
    {
      "cell_type": "markdown",
      "source": [
        "##Apply k-fold cross validation"
      ],
      "metadata": {
        "id": "Q7MgyQjmU6Pt"
      }
    },
    {
      "cell_type": "code",
      "source": [
        "import numpy as np\n",
        "from sklearn.model_selection import StratifiedKFold\n",
        "from tensorflow.keras.applications import EfficientNetB0\n",
        "from tensorflow.keras.layers import Dense\n",
        "from tensorflow.keras.models import Model\n",
        "from tensorflow.keras.optimizers import Adam\n",
        "from tensorflow.keras.callbacks import EarlyStopping\n",
        "\n",
        "# Define the number of folds\n",
        "K = 3\n",
        "\n",
        "# Convert categorical labels back to integers for StratifiedKFold\n",
        "y_labels = np.argmax(labels, axis=1)\n",
        "\n",
        "# Define Stratified K-Fold\n",
        "skf = StratifiedKFold(n_splits=K, shuffle=True, random_state=42)\n",
        "\n",
        "# Function to create a CNN model\n",
        "def create_model(input_shape, num_classes):\n",
        "    # Build a simple CNN model\n",
        "    model = models.Sequential()\n",
        "\n",
        "    # Convolutional layer\n",
        "    model.add(layers.Conv2D(filters=16, kernel_size=(3,3), activation='relu', input_shape=(IMG_SIZE,IMG_SIZE, 3))),\n",
        "    model.add(layers.Conv2D(filters=32, kernel_size=(3,3), activation='relu')),\n",
        "    model.add(layers.MaxPool2D(pool_size=(2, 2))),\n",
        "    model.add(layers.BatchNormalization(axis=-1)),\n",
        "\n",
        "    # Add more layers\n",
        "    model.add(layers.Conv2D(filters=64, kernel_size=(3,3), activation='relu')),\n",
        "    model.add(layers.Conv2D(filters=128, kernel_size=(3,3), activation='relu')),\n",
        "    model.add(layers.MaxPool2D(pool_size=(2, 2))),\n",
        "    model.add(layers.BatchNormalization(axis=-1)),\n",
        "\n",
        "    model.add(layers.Flatten()),\n",
        "    model.add(layers.Dense(512, activation='relu')),\n",
        "    model.add(layers.BatchNormalization()),\n",
        "    model.add(layers.Dropout(rate=0.5)),\n",
        "\n",
        "    model.add(layers.Dense(num_classes, activation='softmax'))\n",
        "\n",
        "    model.compile(optimizer=Adam(learning_rate=0.001),\n",
        "                  loss='categorical_crossentropy',\n",
        "                  metrics=['accuracy'])\n",
        "    return model"
      ],
      "metadata": {
        "id": "92R09zUDaFgv"
      },
      "execution_count": null,
      "outputs": []
    },
    {
      "cell_type": "code",
      "source": [
        "import os\n",
        "\n",
        "# Directory to save models\n",
        "model_save_dir = '/content/drive/My Drive/UH/Data Science Project/GTSRB/Models/'\n",
        "\n",
        "# Ensure the directory exists\n",
        "os.makedirs(model_save_dir, exist_ok=True)\n",
        "\n",
        "# Perform K-Fold Cross-Validation\n",
        "fold_no = 1\n",
        "accuracies = []\n",
        "model_paths = []\n",
        "EPOCHS = 15\n",
        "\n",
        "# Initialize lists to store training and validation metrics\n",
        "train_accuracies = []\n",
        "val_accuracies = []\n",
        "train_losses = []\n",
        "val_losses = []\n",
        "\n",
        "# Initialize lists to store metrics\n",
        "classification_reports = []\n",
        "\n",
        "# Initialize the cumulative confusion matrix\n",
        "cumulative_confusion_matrix = np.zeros((num_classes, num_classes), dtype=np.float32)\n",
        "\n",
        "for train_idx, val_idx in skf.split(images, y_labels):\n",
        "    print(f\"\\nTraining fold {fold_no}...\")\n",
        "\n",
        "    # Split the data into training and validation sets\n",
        "    X_train, X_val = images[train_idx], images[val_idx]\n",
        "    y_train, y_val = labels[train_idx], labels[val_idx]\n",
        "\n",
        "    # Create a new model instance\n",
        "    model = create_model(input_shape=(IMG_SIZE, IMG_SIZE, 3), num_classes=num_classes)\n",
        "\n",
        "    # Define early stopping\n",
        "    early_stopping = EarlyStopping(monitor='val_loss', patience=3, restore_best_weights=True)\n",
        "\n",
        "    # Train the model\n",
        "    history = model.fit(\n",
        "        X_train, y_train,\n",
        "        validation_data=(X_val, y_val),\n",
        "        epochs=EPOCHS,\n",
        "        batch_size=BATCH_SIZE,\n",
        "        callbacks=[early_stopping],\n",
        "        verbose=1\n",
        "    )\n",
        "\n",
        "    # Store accuracy and loss for each epoch\n",
        "    train_accuracies.append(history.history['accuracy'])\n",
        "    val_accuracies.append(history.history['val_accuracy'])\n",
        "    train_losses.append(history.history['loss'])\n",
        "    val_losses.append(history.history['val_loss'])\n",
        "\n",
        "    # Generate predictions for the validation set\n",
        "    y_pred = np.argmax(model.predict(X_val), axis=1)\n",
        "    y_true = np.argmax(y_val, axis=1)\n",
        "\n",
        "    # Compute classification report for the current fold\n",
        "    report = classification_report(y_true, y_pred, output_dict=True)\n",
        "    classification_reports.append(report)\n",
        "\n",
        "    # Compute confusion matrix for the current fold\n",
        "    fold_confusion_matrix = confusion_matrix(y_true, y_pred, labels=range(num_classes))\n",
        "\n",
        "    # Accumulate the confusion matrix\n",
        "    cumulative_confusion_matrix += fold_confusion_matrix\n",
        "\n",
        "    # Evaluate the model on the validation set\n",
        "    val_loss, val_accuracy = model.evaluate(X_val, y_val, verbose=0)\n",
        "    print(f\"Fold {fold_no} - Validation Accuracy: {val_accuracy:.4f}\")\n",
        "    accuracies.append(val_accuracy)\n",
        "\n",
        "    # Save the model\n",
        "    model_path = os.path.join(model_save_dir, f'model_fold_{fold_no}.h5')\n",
        "    model.save(model_path)\n",
        "    model_paths.append(model_path)\n",
        "\n",
        "    fold_no += 1"
      ],
      "metadata": {
        "colab": {
          "base_uri": "https://localhost:8080/"
        },
        "id": "sYgZtD5MvBod",
        "outputId": "e123a5f4-9bab-4174-90b7-5a1698509ceb"
      },
      "execution_count": null,
      "outputs": [
        {
          "output_type": "stream",
          "name": "stdout",
          "text": [
            "\n",
            "Training fold 1...\n",
            "Epoch 1/15\n",
            "\u001b[1m817/817\u001b[0m \u001b[32m━━━━━━━━━━━━━━━━━━━━\u001b[0m\u001b[37m\u001b[0m \u001b[1m24s\u001b[0m 21ms/step - accuracy: 0.7473 - loss: 1.0823 - val_accuracy: 0.9814 - val_loss: 0.0656\n",
            "Epoch 2/15\n",
            "\u001b[1m817/817\u001b[0m \u001b[32m━━━━━━━━━━━━━━━━━━━━\u001b[0m\u001b[37m\u001b[0m \u001b[1m24s\u001b[0m 6ms/step - accuracy: 0.9888 - loss: 0.0388 - val_accuracy: 0.9830 - val_loss: 0.0603\n",
            "Epoch 3/15\n",
            "\u001b[1m817/817\u001b[0m \u001b[32m━━━━━━━━━━━━━━━━━━━━\u001b[0m\u001b[37m\u001b[0m \u001b[1m4s\u001b[0m 5ms/step - accuracy: 0.9904 - loss: 0.0319 - val_accuracy: 0.9814 - val_loss: 0.0641\n",
            "Epoch 4/15\n",
            "\u001b[1m817/817\u001b[0m \u001b[32m━━━━━━━━━━━━━━━━━━━━\u001b[0m\u001b[37m\u001b[0m \u001b[1m5s\u001b[0m 5ms/step - accuracy: 0.9916 - loss: 0.0263 - val_accuracy: 0.9922 - val_loss: 0.0249\n",
            "Epoch 5/15\n",
            "\u001b[1m817/817\u001b[0m \u001b[32m━━━━━━━━━━━━━━━━━━━━\u001b[0m\u001b[37m\u001b[0m \u001b[1m6s\u001b[0m 6ms/step - accuracy: 0.9958 - loss: 0.0157 - val_accuracy: 0.9872 - val_loss: 0.0444\n",
            "Epoch 6/15\n",
            "\u001b[1m817/817\u001b[0m \u001b[32m━━━━━━━━━━━━━━━━━━━━\u001b[0m\u001b[37m\u001b[0m \u001b[1m4s\u001b[0m 4ms/step - accuracy: 0.9921 - loss: 0.0238 - val_accuracy: 0.9904 - val_loss: 0.0383\n",
            "Epoch 7/15\n",
            "\u001b[1m817/817\u001b[0m \u001b[32m━━━━━━━━━━━━━━━━━━━━\u001b[0m\u001b[37m\u001b[0m \u001b[1m4s\u001b[0m 4ms/step - accuracy: 0.9938 - loss: 0.0216 - val_accuracy: 0.9847 - val_loss: 0.0483\n",
            "\u001b[1m409/409\u001b[0m \u001b[32m━━━━━━━━━━━━━━━━━━━━\u001b[0m\u001b[37m\u001b[0m \u001b[1m2s\u001b[0m 4ms/step\n"
          ]
        },
        {
          "output_type": "stream",
          "name": "stderr",
          "text": [
            "WARNING:absl:You are saving your model as an HDF5 file via `model.save()` or `keras.saving.save_model(model)`. This file format is considered legacy. We recommend using instead the native Keras format, e.g. `model.save('my_model.keras')` or `keras.saving.save_model(model, 'my_model.keras')`. \n"
          ]
        },
        {
          "output_type": "stream",
          "name": "stdout",
          "text": [
            "Fold 1 - Validation Accuracy: 0.9922\n",
            "\n",
            "Training fold 2...\n",
            "Epoch 1/15\n",
            "\u001b[1m817/817\u001b[0m \u001b[32m━━━━━━━━━━━━━━━━━━━━\u001b[0m\u001b[37m\u001b[0m \u001b[1m17s\u001b[0m 14ms/step - accuracy: 0.7313 - loss: 1.1065 - val_accuracy: 0.9815 - val_loss: 0.0663\n",
            "Epoch 2/15\n",
            "\u001b[1m817/817\u001b[0m \u001b[32m━━━━━━━━━━━━━━━━━━━━\u001b[0m\u001b[37m\u001b[0m \u001b[1m5s\u001b[0m 6ms/step - accuracy: 0.9887 - loss: 0.0393 - val_accuracy: 0.9915 - val_loss: 0.0280\n",
            "Epoch 3/15\n",
            "\u001b[1m817/817\u001b[0m \u001b[32m━━━━━━━━━━━━━━━━━━━━\u001b[0m\u001b[37m\u001b[0m \u001b[1m4s\u001b[0m 4ms/step - accuracy: 0.9911 - loss: 0.0300 - val_accuracy: 0.9914 - val_loss: 0.0332\n",
            "Epoch 4/15\n",
            "\u001b[1m817/817\u001b[0m \u001b[32m━━━━━━━━━━━━━━━━━━━━\u001b[0m\u001b[37m\u001b[0m \u001b[1m4s\u001b[0m 4ms/step - accuracy: 0.9925 - loss: 0.0237 - val_accuracy: 0.9922 - val_loss: 0.0360\n",
            "Epoch 5/15\n",
            "\u001b[1m817/817\u001b[0m \u001b[32m━━━━━━━━━━━━━━━━━━━━\u001b[0m\u001b[37m\u001b[0m \u001b[1m6s\u001b[0m 6ms/step - accuracy: 0.9927 - loss: 0.0227 - val_accuracy: 0.9921 - val_loss: 0.0286\n",
            "\u001b[1m409/409\u001b[0m \u001b[32m━━━━━━━━━━━━━━━━━━━━\u001b[0m\u001b[37m\u001b[0m \u001b[1m1s\u001b[0m 2ms/step\n"
          ]
        },
        {
          "output_type": "stream",
          "name": "stderr",
          "text": [
            "WARNING:absl:You are saving your model as an HDF5 file via `model.save()` or `keras.saving.save_model(model)`. This file format is considered legacy. We recommend using instead the native Keras format, e.g. `model.save('my_model.keras')` or `keras.saving.save_model(model, 'my_model.keras')`. \n"
          ]
        },
        {
          "output_type": "stream",
          "name": "stdout",
          "text": [
            "Fold 2 - Validation Accuracy: 0.9915\n",
            "\n",
            "Training fold 3...\n",
            "Epoch 1/15\n",
            "\u001b[1m817/817\u001b[0m \u001b[32m━━━━━━━━━━━━━━━━━━━━\u001b[0m\u001b[37m\u001b[0m \u001b[1m22s\u001b[0m 19ms/step - accuracy: 0.7122 - loss: 1.1978 - val_accuracy: 0.9871 - val_loss: 0.0495\n",
            "Epoch 2/15\n",
            "\u001b[1m817/817\u001b[0m \u001b[32m━━━━━━━━━━━━━━━━━━━━\u001b[0m\u001b[37m\u001b[0m \u001b[1m5s\u001b[0m 6ms/step - accuracy: 0.9888 - loss: 0.0404 - val_accuracy: 0.9897 - val_loss: 0.0384\n",
            "Epoch 3/15\n",
            "\u001b[1m817/817\u001b[0m \u001b[32m━━━━━━━━━━━━━━━━━━━━\u001b[0m\u001b[37m\u001b[0m \u001b[1m4s\u001b[0m 5ms/step - accuracy: 0.9897 - loss: 0.0326 - val_accuracy: 0.9879 - val_loss: 0.0460\n",
            "Epoch 4/15\n",
            "\u001b[1m817/817\u001b[0m \u001b[32m━━━━━━━━━━━━━━━━━━━━\u001b[0m\u001b[37m\u001b[0m \u001b[1m5s\u001b[0m 5ms/step - accuracy: 0.9915 - loss: 0.0301 - val_accuracy: 0.9912 - val_loss: 0.0316\n",
            "Epoch 5/15\n",
            "\u001b[1m817/817\u001b[0m \u001b[32m━━━━━━━━━━━━━━━━━━━━\u001b[0m\u001b[37m\u001b[0m \u001b[1m5s\u001b[0m 4ms/step - accuracy: 0.9929 - loss: 0.0231 - val_accuracy: 0.9931 - val_loss: 0.0300\n",
            "Epoch 6/15\n",
            "\u001b[1m817/817\u001b[0m \u001b[32m━━━━━━━━━━━━━━━━━━━━\u001b[0m\u001b[37m\u001b[0m \u001b[1m6s\u001b[0m 5ms/step - accuracy: 0.9931 - loss: 0.0221 - val_accuracy: 0.9914 - val_loss: 0.0321\n",
            "Epoch 7/15\n",
            "\u001b[1m817/817\u001b[0m \u001b[32m━━━━━━━━━━━━━━━━━━━━\u001b[0m\u001b[37m\u001b[0m \u001b[1m4s\u001b[0m 5ms/step - accuracy: 0.9942 - loss: 0.0204 - val_accuracy: 0.9837 - val_loss: 0.0620\n",
            "Epoch 8/15\n",
            "\u001b[1m817/817\u001b[0m \u001b[32m━━━━━━━━━━━━━━━━━━━━\u001b[0m\u001b[37m\u001b[0m \u001b[1m4s\u001b[0m 5ms/step - accuracy: 0.9956 - loss: 0.0132 - val_accuracy: 0.9918 - val_loss: 0.0315\n",
            "\u001b[1m409/409\u001b[0m \u001b[32m━━━━━━━━━━━━━━━━━━━━\u001b[0m\u001b[37m\u001b[0m \u001b[1m1s\u001b[0m 3ms/step\n"
          ]
        },
        {
          "output_type": "stream",
          "name": "stderr",
          "text": [
            "WARNING:absl:You are saving your model as an HDF5 file via `model.save()` or `keras.saving.save_model(model)`. This file format is considered legacy. We recommend using instead the native Keras format, e.g. `model.save('my_model.keras')` or `keras.saving.save_model(model, 'my_model.keras')`. \n"
          ]
        },
        {
          "output_type": "stream",
          "name": "stdout",
          "text": [
            "Fold 3 - Validation Accuracy: 0.9931\n"
          ]
        }
      ]
    },
    {
      "cell_type": "code",
      "source": [
        "# Summary of results\n",
        "print(\"\\nCross-Validation Results:\")\n",
        "print(f\"Average Validation Accuracy: {np.mean(accuracies):.4f}\")\n",
        "print(f\"Standard Deviation: {np.std(accuracies):.4f}\")"
      ],
      "metadata": {
        "id": "UCnFhUfm-NP3",
        "colab": {
          "base_uri": "https://localhost:8080/"
        },
        "outputId": "93d45c5b-5e66-4425-b5f6-ca75c0059c9e"
      },
      "execution_count": null,
      "outputs": [
        {
          "output_type": "stream",
          "name": "stdout",
          "text": [
            "\n",
            "Cross-Validation Results:\n",
            "Average Validation Accuracy: 0.9923\n",
            "Standard Deviation: 0.0007\n"
          ]
        }
      ]
    },
    {
      "cell_type": "markdown",
      "source": [
        "#Evaluate the model"
      ],
      "metadata": {
        "id": "YOfs3oVaRY_k"
      }
    },
    {
      "cell_type": "markdown",
      "source": [
        "##Accuracy and loss curve"
      ],
      "metadata": {
        "id": "F1UoPYf4pxIY"
      }
    },
    {
      "cell_type": "code",
      "source": [
        "# Compute averages for each epoch\n",
        "avg_train_accuracy = [sum(values) / len(values) for values in zip(*train_accuracies)]\n",
        "avg_val_accuracy = [sum(values) / len(values) for values in zip(*val_accuracies)]\n",
        "avg_train_loss = [sum(values) / len(values) for values in zip(*train_losses)]\n",
        "avg_val_loss = [sum(values) / len(values) for values in zip(*val_losses)]"
      ],
      "metadata": {
        "id": "q54bGOj7kr20"
      },
      "execution_count": null,
      "outputs": []
    },
    {
      "cell_type": "code",
      "source": [
        "# Creating epoch numbers starting from 1\n",
        "epochs_range = range(1, EPOCHS + 1)\n",
        "\n",
        "# Plot accuracy\n",
        "plt.plot(epochs_range, avg_train_accuracy, label='train_accuracy')\n",
        "plt.plot(epochs_range, avg_val_accuracy, label='val_accuracy')\n",
        "plt.title('Model Accuracy')\n",
        "plt.ylabel('Accuracy')\n",
        "plt.xlabel('Epoch')\n",
        "plt.xticks(epochs_range)  # Set x-axis ticks to match epoch numbers\n",
        "plt.legend(loc='upper left')\n",
        "plt.show()\n",
        "\n",
        "# Plot loss\n",
        "plt.plot(epochs_range, avg_train_loss, label='train_loss')\n",
        "plt.plot(epochs_range, avg_val_loss, label='val_loss')\n",
        "plt.title('Model Loss')\n",
        "plt.ylabel('Loss')\n",
        "plt.xlabel('Epoch')\n",
        "plt.xticks(epochs_range)  # Set x-axis ticks to match epoch numbers\n",
        "plt.legend(loc='upper left')\n",
        "plt.show()\n"
      ],
      "metadata": {
        "colab": {
          "base_uri": "https://localhost:8080/",
          "height": 791
        },
        "id": "NYiU-OXsg11p",
        "outputId": "67834121-fa9b-42ef-a658-cbc8e9a7f72b"
      },
      "execution_count": null,
      "outputs": [
        {
          "output_type": "error",
          "ename": "ValueError",
          "evalue": "x and y must have same first dimension, but have shapes (15,) and (5,)",
          "traceback": [
            "\u001b[0;31m---------------------------------------------------------------------------\u001b[0m",
            "\u001b[0;31mValueError\u001b[0m                                Traceback (most recent call last)",
            "\u001b[0;32m<ipython-input-11-c5d4518a7825>\u001b[0m in \u001b[0;36m<cell line: 5>\u001b[0;34m()\u001b[0m\n\u001b[1;32m      3\u001b[0m \u001b[0;34m\u001b[0m\u001b[0m\n\u001b[1;32m      4\u001b[0m \u001b[0;31m# Plot accuracy\u001b[0m\u001b[0;34m\u001b[0m\u001b[0;34m\u001b[0m\u001b[0m\n\u001b[0;32m----> 5\u001b[0;31m \u001b[0mplt\u001b[0m\u001b[0;34m.\u001b[0m\u001b[0mplot\u001b[0m\u001b[0;34m(\u001b[0m\u001b[0mepochs_range\u001b[0m\u001b[0;34m,\u001b[0m \u001b[0mavg_train_accuracy\u001b[0m\u001b[0;34m,\u001b[0m \u001b[0mlabel\u001b[0m\u001b[0;34m=\u001b[0m\u001b[0;34m'train_accuracy'\u001b[0m\u001b[0;34m)\u001b[0m\u001b[0;34m\u001b[0m\u001b[0;34m\u001b[0m\u001b[0m\n\u001b[0m\u001b[1;32m      6\u001b[0m \u001b[0mplt\u001b[0m\u001b[0;34m.\u001b[0m\u001b[0mplot\u001b[0m\u001b[0;34m(\u001b[0m\u001b[0mepochs_range\u001b[0m\u001b[0;34m,\u001b[0m \u001b[0mavg_val_accuracy\u001b[0m\u001b[0;34m,\u001b[0m \u001b[0mlabel\u001b[0m\u001b[0;34m=\u001b[0m\u001b[0;34m'val_accuracy'\u001b[0m\u001b[0;34m)\u001b[0m\u001b[0;34m\u001b[0m\u001b[0;34m\u001b[0m\u001b[0m\n\u001b[1;32m      7\u001b[0m \u001b[0mplt\u001b[0m\u001b[0;34m.\u001b[0m\u001b[0mtitle\u001b[0m\u001b[0;34m(\u001b[0m\u001b[0;34m'Model Accuracy'\u001b[0m\u001b[0;34m)\u001b[0m\u001b[0;34m\u001b[0m\u001b[0;34m\u001b[0m\u001b[0m\n",
            "\u001b[0;32m/usr/local/lib/python3.10/dist-packages/matplotlib/pyplot.py\u001b[0m in \u001b[0;36mplot\u001b[0;34m(scalex, scaley, data, *args, **kwargs)\u001b[0m\n\u001b[1;32m   3576\u001b[0m     \u001b[0;34m**\u001b[0m\u001b[0mkwargs\u001b[0m\u001b[0;34m,\u001b[0m\u001b[0;34m\u001b[0m\u001b[0;34m\u001b[0m\u001b[0m\n\u001b[1;32m   3577\u001b[0m ) -> list[Line2D]:\n\u001b[0;32m-> 3578\u001b[0;31m     return gca().plot(\n\u001b[0m\u001b[1;32m   3579\u001b[0m         \u001b[0;34m*\u001b[0m\u001b[0margs\u001b[0m\u001b[0;34m,\u001b[0m\u001b[0;34m\u001b[0m\u001b[0;34m\u001b[0m\u001b[0m\n\u001b[1;32m   3580\u001b[0m         \u001b[0mscalex\u001b[0m\u001b[0;34m=\u001b[0m\u001b[0mscalex\u001b[0m\u001b[0;34m,\u001b[0m\u001b[0;34m\u001b[0m\u001b[0;34m\u001b[0m\u001b[0m\n",
            "\u001b[0;32m/usr/local/lib/python3.10/dist-packages/matplotlib/axes/_axes.py\u001b[0m in \u001b[0;36mplot\u001b[0;34m(self, scalex, scaley, data, *args, **kwargs)\u001b[0m\n\u001b[1;32m   1719\u001b[0m         \"\"\"\n\u001b[1;32m   1720\u001b[0m         \u001b[0mkwargs\u001b[0m \u001b[0;34m=\u001b[0m \u001b[0mcbook\u001b[0m\u001b[0;34m.\u001b[0m\u001b[0mnormalize_kwargs\u001b[0m\u001b[0;34m(\u001b[0m\u001b[0mkwargs\u001b[0m\u001b[0;34m,\u001b[0m \u001b[0mmlines\u001b[0m\u001b[0;34m.\u001b[0m\u001b[0mLine2D\u001b[0m\u001b[0;34m)\u001b[0m\u001b[0;34m\u001b[0m\u001b[0;34m\u001b[0m\u001b[0m\n\u001b[0;32m-> 1721\u001b[0;31m         \u001b[0mlines\u001b[0m \u001b[0;34m=\u001b[0m \u001b[0;34m[\u001b[0m\u001b[0;34m*\u001b[0m\u001b[0mself\u001b[0m\u001b[0;34m.\u001b[0m\u001b[0m_get_lines\u001b[0m\u001b[0;34m(\u001b[0m\u001b[0mself\u001b[0m\u001b[0;34m,\u001b[0m \u001b[0;34m*\u001b[0m\u001b[0margs\u001b[0m\u001b[0;34m,\u001b[0m \u001b[0mdata\u001b[0m\u001b[0;34m=\u001b[0m\u001b[0mdata\u001b[0m\u001b[0;34m,\u001b[0m \u001b[0;34m**\u001b[0m\u001b[0mkwargs\u001b[0m\u001b[0;34m)\u001b[0m\u001b[0;34m]\u001b[0m\u001b[0;34m\u001b[0m\u001b[0;34m\u001b[0m\u001b[0m\n\u001b[0m\u001b[1;32m   1722\u001b[0m         \u001b[0;32mfor\u001b[0m \u001b[0mline\u001b[0m \u001b[0;32min\u001b[0m \u001b[0mlines\u001b[0m\u001b[0;34m:\u001b[0m\u001b[0;34m\u001b[0m\u001b[0;34m\u001b[0m\u001b[0m\n\u001b[1;32m   1723\u001b[0m             \u001b[0mself\u001b[0m\u001b[0;34m.\u001b[0m\u001b[0madd_line\u001b[0m\u001b[0;34m(\u001b[0m\u001b[0mline\u001b[0m\u001b[0;34m)\u001b[0m\u001b[0;34m\u001b[0m\u001b[0;34m\u001b[0m\u001b[0m\n",
            "\u001b[0;32m/usr/local/lib/python3.10/dist-packages/matplotlib/axes/_base.py\u001b[0m in \u001b[0;36m__call__\u001b[0;34m(self, axes, data, *args, **kwargs)\u001b[0m\n\u001b[1;32m    301\u001b[0m                 \u001b[0mthis\u001b[0m \u001b[0;34m+=\u001b[0m \u001b[0margs\u001b[0m\u001b[0;34m[\u001b[0m\u001b[0;36m0\u001b[0m\u001b[0;34m]\u001b[0m\u001b[0;34m,\u001b[0m\u001b[0;34m\u001b[0m\u001b[0;34m\u001b[0m\u001b[0m\n\u001b[1;32m    302\u001b[0m                 \u001b[0margs\u001b[0m \u001b[0;34m=\u001b[0m \u001b[0margs\u001b[0m\u001b[0;34m[\u001b[0m\u001b[0;36m1\u001b[0m\u001b[0;34m:\u001b[0m\u001b[0;34m]\u001b[0m\u001b[0;34m\u001b[0m\u001b[0;34m\u001b[0m\u001b[0m\n\u001b[0;32m--> 303\u001b[0;31m             yield from self._plot_args(\n\u001b[0m\u001b[1;32m    304\u001b[0m                 axes, this, kwargs, ambiguous_fmt_datakey=ambiguous_fmt_datakey)\n\u001b[1;32m    305\u001b[0m \u001b[0;34m\u001b[0m\u001b[0m\n",
            "\u001b[0;32m/usr/local/lib/python3.10/dist-packages/matplotlib/axes/_base.py\u001b[0m in \u001b[0;36m_plot_args\u001b[0;34m(self, axes, tup, kwargs, return_kwargs, ambiguous_fmt_datakey)\u001b[0m\n\u001b[1;32m    497\u001b[0m \u001b[0;34m\u001b[0m\u001b[0m\n\u001b[1;32m    498\u001b[0m         \u001b[0;32mif\u001b[0m \u001b[0mx\u001b[0m\u001b[0;34m.\u001b[0m\u001b[0mshape\u001b[0m\u001b[0;34m[\u001b[0m\u001b[0;36m0\u001b[0m\u001b[0;34m]\u001b[0m \u001b[0;34m!=\u001b[0m \u001b[0my\u001b[0m\u001b[0;34m.\u001b[0m\u001b[0mshape\u001b[0m\u001b[0;34m[\u001b[0m\u001b[0;36m0\u001b[0m\u001b[0;34m]\u001b[0m\u001b[0;34m:\u001b[0m\u001b[0;34m\u001b[0m\u001b[0;34m\u001b[0m\u001b[0m\n\u001b[0;32m--> 499\u001b[0;31m             raise ValueError(f\"x and y must have same first dimension, but \"\n\u001b[0m\u001b[1;32m    500\u001b[0m                              f\"have shapes {x.shape} and {y.shape}\")\n\u001b[1;32m    501\u001b[0m         \u001b[0;32mif\u001b[0m \u001b[0mx\u001b[0m\u001b[0;34m.\u001b[0m\u001b[0mndim\u001b[0m \u001b[0;34m>\u001b[0m \u001b[0;36m2\u001b[0m \u001b[0;32mor\u001b[0m \u001b[0my\u001b[0m\u001b[0;34m.\u001b[0m\u001b[0mndim\u001b[0m \u001b[0;34m>\u001b[0m \u001b[0;36m2\u001b[0m\u001b[0;34m:\u001b[0m\u001b[0;34m\u001b[0m\u001b[0;34m\u001b[0m\u001b[0m\n",
            "\u001b[0;31mValueError\u001b[0m: x and y must have same first dimension, but have shapes (15,) and (5,)"
          ]
        },
        {
          "output_type": "display_data",
          "data": {
            "text/plain": [
              "<Figure size 640x480 with 1 Axes>"
            ],
            "image/png": "[encoded data removed]"
          },
          "metadata": {}
        }
      ]
    },
    {
      "cell_type": "markdown",
      "source": [
        "##Classification report"
      ],
      "metadata": {
        "id": "cFPlgquKp2-V"
      }
    },
    {
      "cell_type": "code",
      "source": [
        "import pandas as pd\n",
        "\n",
        "# Compute average classification report\n",
        "avg_report = {}\n",
        "\n",
        "# List all class labels (assuming the same structure for all reports)\n",
        "all_classes = classification_reports[0].keys()\n",
        "\n",
        "# Iterate through each metric and compute the average\n",
        "for class_label in all_classes:\n",
        "    if isinstance(classification_reports[0][class_label], dict):  # Metrics for a specific class\n",
        "        avg_report[class_label] = {}\n",
        "        for metric in classification_reports[0][class_label]:\n",
        "            # Compute the average of the metric across all folds\n",
        "            avg_report[class_label][metric] = np.mean([\n",
        "                report[class_label][metric] for report in classification_reports\n",
        "            ])\n",
        "    else:  # Aggregate overall metrics (e.g., accuracy)\n",
        "        avg_report[class_label] = np.mean([\n",
        "            report[class_label] for report in classification_reports\n",
        "        ])\n",
        "\n",
        "#print(\"Average Classification Report:\", average_report)\n",
        "avg_report"
      ],
      "metadata": {
        "colab": {
          "base_uri": "https://localhost:8080/"
        },
        "collapsed": true,
        "id": "NuKuAbkIuUgF",
        "outputId": "ea781ccd-0f30-458c-e365-d7c77c0601d4"
      },
      "execution_count": null,
      "outputs": [
        {
          "output_type": "execute_result",
          "data": {
            "text/plain": [
              "{'0': {'precision': 0.9723454884558492,\n",
              "  'recall': 0.9952380952380953,\n",
              "  'f1-score': 0.9836168559572815,\n",
              "  'support': 70.0},\n",
              " '1': {'precision': 0.9822129053154353,\n",
              "  'recall': 0.9918918918918918,\n",
              "  'f1-score': 0.9870166947631737,\n",
              "  'support': 740.0},\n",
              " '2': {'precision': 0.9872352825206114,\n",
              "  'recall': 0.9933333333333333,\n",
              "  'f1-score': 0.9902527115052239,\n",
              "  'support': 750.0},\n",
              " '3': {'precision': 0.9893990403839769,\n",
              "  'recall': 0.9907801418439717,\n",
              "  'f1-score': 0.9900798941285008,\n",
              "  'support': 470.0},\n",
              " '4': {'precision': 0.9974520091391533,\n",
              "  'recall': 0.9843434343434344,\n",
              "  'f1-score': 0.9908096382070247,\n",
              "  'support': 660.0},\n",
              " '5': {'precision': 0.9869056580353835,\n",
              "  'recall': 0.9725806451612904,\n",
              "  'f1-score': 0.9796750965759343,\n",
              "  'support': 620.0},\n",
              " '6': {'precision': 0.9952378522713744,\n",
              "  'recall': 0.9952380952380953,\n",
              "  'f1-score': 0.9952295309889156,\n",
              "  'support': 140.0},\n",
              " '7': {'precision': 0.997207669717222,\n",
              "  'recall': 0.9868055555555556,\n",
              "  'f1-score': 0.9919587347017017,\n",
              "  'support': 480.0},\n",
              " '8': {'precision': 0.9820988924547108,\n",
              "  'recall': 0.9921985815602836,\n",
              "  'f1-score': 0.9870457355309178,\n",
              "  'support': 470.0},\n",
              " '9': {'precision': 0.9945689069925323,\n",
              "  'recall': 0.9965986394557823,\n",
              "  'f1-score': 0.9955827387020048,\n",
              "  'support': 490.0},\n",
              " '10': {'precision': 0.9990064580228514,\n",
              "  'recall': 0.9975124378109453,\n",
              "  'f1-score': 0.9982574026920569,\n",
              "  'support': 670.0},\n",
              " '11': {'precision': 0.9962172747887034,\n",
              "  'recall': 0.9931818181818182,\n",
              "  'f1-score': 0.9946882969470937,\n",
              "  'support': 440.0},\n",
              " '12': {'precision': 0.9995231282784931,\n",
              "  'recall': 0.9961904761904762,\n",
              "  'f1-score': 0.9978532221578025,\n",
              "  'support': 700.0},\n",
              " '13': {'precision': 0.9976903043112019,\n",
              "  'recall': 0.9986111111111112,\n",
              "  'f1-score': 0.9981491093113748,\n",
              "  'support': 720.0},\n",
              " '14': {'precision': 0.9974308711277436,\n",
              "  'recall': 0.9961538461538462,\n",
              "  'f1-score': 0.9967862021604823,\n",
              "  'support': 260.0},\n",
              " '15': {'precision': 0.9801315037164094,\n",
              "  'recall': 0.9936507936507937,\n",
              "  'f1-score': 0.9866904228188044,\n",
              "  'support': 210.0},\n",
              " '16': {'precision': 0.9976190476190476,\n",
              "  'recall': 0.9976190476190476,\n",
              "  'f1-score': 0.9976190476190476,\n",
              "  'support': 140.0},\n",
              " '17': {'precision': 0.9964109401114879,\n",
              "  'recall': 0.9972972972972972,\n",
              "  'f1-score': 0.99684865737134,\n",
              "  'support': 370.0},\n",
              " '18': {'precision': 0.9892715756620095,\n",
              "  'recall': 0.9966666666666667,\n",
              "  'f1-score': 0.9929461737261119,\n",
              "  'support': 400.0},\n",
              " '19': {'precision': 0.9907407407407408,\n",
              "  'recall': 0.9952380952380953,\n",
              "  'f1-score': 0.9929070827844767,\n",
              "  'support': 70.0},\n",
              " '20': {'precision': 0.9862197954020049,\n",
              "  'recall': 0.9833333333333334,\n",
              "  'f1-score': 0.9846683244396407,\n",
              "  'support': 120.0},\n",
              " '21': {'precision': 0.9969969969969971,\n",
              "  'recall': 0.993939393939394,\n",
              "  'f1-score': 0.9954475643436158,\n",
              "  'support': 110.0},\n",
              " '22': {'precision': 0.9974554707379135,\n",
              "  'recall': 1.0,\n",
              "  'f1-score': 0.9987228607918263,\n",
              "  'support': 130.0},\n",
              " '23': {'precision': 0.9961013645224172,\n",
              "  'recall': 0.9823529411764707,\n",
              "  'f1-score': 0.9890353201662957,\n",
              "  'support': 170.0},\n",
              " '24': {'precision': 0.9963369963369964,\n",
              "  'recall': 0.9888888888888889,\n",
              "  'f1-score': 0.9925086618597248,\n",
              "  'support': 90.0},\n",
              " '25': {'precision': 0.997997327989312,\n",
              "  'recall': 0.996,\n",
              "  'f1-score': 0.9969969956596544,\n",
              "  'support': 500.0},\n",
              " '26': {'precision': 0.9835130645051628,\n",
              "  'recall': 0.9883333333333333,\n",
              "  'f1-score': 0.9858806348309864,\n",
              "  'support': 200.0},\n",
              " '27': {'precision': 0.9958847736625515,\n",
              "  'recall': 0.9958333333333332,\n",
              "  'f1-score': 0.9958331705665585,\n",
              "  'support': 80.0},\n",
              " '28': {'precision': 0.9963369963369964,\n",
              "  'recall': 0.9944444444444445,\n",
              "  'f1-score': 0.9953676768741473,\n",
              "  'support': 180.0},\n",
              " '29': {'precision': 0.9579288025889968,\n",
              "  'recall': 0.9888888888888889,\n",
              "  'f1-score': 0.9719399799372271,\n",
              "  'support': 90.0},\n",
              " '30': {'precision': 0.989247311827957,\n",
              "  'recall': 0.9688888888888889,\n",
              "  'f1-score': 0.9785367617476153,\n",
              "  'support': 150.0},\n",
              " '31': {'precision': 0.9935897435897436,\n",
              "  'recall': 0.9935897435897436,\n",
              "  'f1-score': 0.9935897435897436,\n",
              "  'support': 260.0},\n",
              " '32': {'precision': 0.9690648502909038,\n",
              "  'recall': 1.0,\n",
              "  'f1-score': 0.9839575507370353,\n",
              "  'support': 80.0},\n",
              " '33': {'precision': 0.992816091954023,\n",
              "  'recall': 0.9927536231884058,\n",
              "  'f1-score': 0.9927247974970318,\n",
              "  'support': 229.66666666666666},\n",
              " '34': {'precision': 0.9952718676122932,\n",
              "  'recall': 0.9928571428571429,\n",
              "  'f1-score': 0.9940174124559443,\n",
              "  'support': 140.0},\n",
              " '35': {'precision': 0.9991666666666666,\n",
              "  'recall': 0.9941666666666666,\n",
              "  'f1-score': 0.9966562029025664,\n",
              "  'support': 400.0},\n",
              " '36': {'precision': 0.9775515973989256,\n",
              "  'recall': 0.9897435897435898,\n",
              "  'f1-score': 0.9835222712255893,\n",
              "  'support': 130.0},\n",
              " '37': {'precision': 0.9953051643192489,\n",
              "  'recall': 0.9952380952380953,\n",
              "  'f1-score': 0.9952378522713744,\n",
              "  'support': 70.0},\n",
              " '38': {'precision': 0.9932963815461261,\n",
              "  'recall': 0.9980676328502415,\n",
              "  'f1-score': 0.9956685482546171,\n",
              "  'support': 690.0},\n",
              " '39': {'precision': 0.9900970489205784,\n",
              "  'recall': 0.9933333333333333,\n",
              "  'f1-score': 0.991674544338856,\n",
              "  'support': 100.0},\n",
              " '40': {'precision': 0.9918032786885246,\n",
              "  'recall': 0.9861111111111112,\n",
              "  'f1-score': 0.9888406406125975,\n",
              "  'support': 120.0},\n",
              " '41': {'precision': 1.0,\n",
              "  'recall': 0.9791666666666666,\n",
              "  'f1-score': 0.9893565553942912,\n",
              "  'support': 80.0},\n",
              " '42': {'precision': 0.9958847736625515,\n",
              "  'recall': 0.9958333333333332,\n",
              "  'f1-score': 0.9958331705665585,\n",
              "  'support': 80.0},\n",
              " 'accuracy': 0.9922722038631634,\n",
              " 'macro avg': {'precision': 0.9910830677958565,\n",
              "  'recall': 0.9919277764731893,\n",
              "  'f1-score': 0.9913960579002968,\n",
              "  'support': 13069.666666666666},\n",
              " 'weighted avg': {'precision': 0.9924054676671998,\n",
              "  'recall': 0.9922722038631634,\n",
              "  'f1-score': 0.9922827401244572,\n",
              "  'support': 13069.666666666666}}"
            ]
          },
          "metadata": {},
          "execution_count": 12
        }
      ]
    },
    {
      "cell_type": "markdown",
      "source": [
        "##Confusion Matrix"
      ],
      "metadata": {
        "id": "S-jckeJTvtm7"
      }
    },
    {
      "cell_type": "code",
      "source": [
        "# Compute the average confusion matrix\n",
        "average_confusion_matrix = cumulative_confusion_matrix / skf.get_n_splits()"
      ],
      "metadata": {
        "id": "XE4Fuja2vqSu"
      },
      "execution_count": null,
      "outputs": []
    },
    {
      "cell_type": "code",
      "source": [
        "from sklearn.metrics import confusion_matrix\n",
        "import numpy as np\n",
        "import seaborn as sns\n",
        "import matplotlib.pyplot as plt\n",
        "\n",
        "# Plot the average confusion matrix\n",
        "plt.figure(figsize=(34, 16))\n",
        "sns.heatmap(\n",
        "    average_confusion_matrix,\n",
        "    annot=True,\n",
        "    fmt=\".0f\",\n",
        "    cmap=\"summer\",\n",
        "    xticklabels=range(num_classes),\n",
        "    yticklabels=range(num_classes)\n",
        ")\n",
        "plt.title(\"Average Confusion Matrix\")\n",
        "plt.xlabel(\"Predicted Label\")\n",
        "plt.ylabel(\"True Label\")\n",
        "plt.show()"
      ],
      "metadata": {
        "colab": {
          "base_uri": "https://localhost:8080/",
          "height": 559
        },
        "id": "yD0TEwL7wSzJ",
        "outputId": "287e6fca-ba87-446c-cb9b-af68eb4dc8d6"
      },
      "execution_count": null,
      "outputs": [
        {
          "output_type": "display_data",
          "data": {
            "text/plain": [
              "<Figure size 3400x1600 with 2 Axes>"
            ],
            "image/png": "[encoded data removed]"
          },
          "metadata": {}
        }
      ]
    },
    {
      "cell_type": "markdown",
      "source": [
        "#Evaluate on test data (unseen data)"
      ],
      "metadata": {
        "id": "f8LGcWkqS0v7"
      }
    },
    {
      "cell_type": "markdown",
      "source": [
        "##Load test data"
      ],
      "metadata": {
        "id": "niO3PB4tlclY"
      }
    },
    {
      "cell_type": "code",
      "source": [
        "# Load the test dataset\n",
        "def load_test_data(test_dir):\n",
        "    images = []\n",
        "    img_names = []\n",
        "\n",
        "    # Valid image file extensions\n",
        "    valid_extensions = ['.jpg', '.jpeg', '.png', '.ppm']\n",
        "\n",
        "    for img_file in os.listdir(test_dir):\n",
        "        img_path = os.path.join(test_dir, img_file)\n",
        "\n",
        "        # Check if the file is an image\n",
        "        _, file_extension = os.path.splitext(img_file)\n",
        "        if file_extension.lower() not in valid_extensions:\n",
        "            print(f\"Skipping non-image file: {img_file}\")\n",
        "            continue  # Skip non-image files\n",
        "\n",
        "        # Read and resize the image\n",
        "        image = cv2.imread(img_path)\n",
        "        image = cv2.resize(image, (IMG_SIZE, IMG_SIZE))\n",
        "\n",
        "        # Append the image and image file name to the lists\n",
        "        images.append(image)\n",
        "        img_names.append(img_file)\n",
        "\n",
        "    # Convert images to a NumPy array\n",
        "    images = np.array(images, dtype='float32') / 255.0  # Normalize images\n",
        "\n",
        "    return images, img_names\n",
        "\n",
        "# Load test images\n",
        "X_test, test_img_names = load_test_data(test_dir)"
      ],
      "metadata": {
        "id": "9SyfKKZ9TAzv",
        "colab": {
          "base_uri": "https://localhost:8080/"
        },
        "outputId": "a5039723-03b4-412e-f249-3c8be49fded8"
      },
      "execution_count": null,
      "outputs": [
        {
          "output_type": "stream",
          "name": "stdout",
          "text": [
            "Skipping non-image file: GT-final_test.test.csv\n"
          ]
        }
      ]
    },
    {
      "cell_type": "code",
      "source": [
        "# Path to test CSV file\n",
        "test_csv_path = '/content/drive/My Drive/Data/GTSRB/Test/GTSRB/Final_Test/Images/GT-final_test.test.csv'\n",
        "# Load the test labels from the CSV file\n",
        "test_data = pd.read_csv(test_csv_path, sep=\";\")"
      ],
      "metadata": {
        "id": "utnPttZayKn2"
      },
      "execution_count": null,
      "outputs": []
    },
    {
      "cell_type": "markdown",
      "source": [
        "##Make predictions"
      ],
      "metadata": {
        "id": "2xQdAfNflFWs"
      }
    },
    {
      "cell_type": "code",
      "source": [
        "# Make predictions using the average of saved models\n",
        "predictions = np.zeros((X_test.shape[0], num_classes))\n",
        "\n",
        "for model_path in model_paths:\n",
        "    print(f\"Loading model from {model_path}\")\n",
        "    model = keras.models.load_model(model_path)\n",
        "    predictions += model.predict(X_test)\n",
        "\n",
        "# Average predictions\n",
        "predictions /= len(model_paths)\n",
        "\n",
        "# Get the class index with the highest probability\n",
        "predicted_classes = np.argmax(predictions, axis=1)"
      ],
      "metadata": {
        "id": "CSpftXPgTO4b",
        "colab": {
          "base_uri": "https://localhost:8080/"
        },
        "outputId": "c211e90e-66d8-423c-f981-8348b13a0a58"
      },
      "execution_count": null,
      "outputs": [
        {
          "output_type": "stream",
          "name": "stdout",
          "text": [
            "Loading model from /content/drive/My Drive/UH/Data Science Project/GTSRB/Models/model_fold_1.h5\n"
          ]
        },
        {
          "output_type": "stream",
          "name": "stderr",
          "text": [
            "WARNING:absl:Compiled the loaded model, but the compiled metrics have yet to be built. `model.compile_metrics` will be empty until you train or evaluate the model.\n"
          ]
        },
        {
          "output_type": "stream",
          "name": "stdout",
          "text": [
            "\u001b[1m395/395\u001b[0m \u001b[32m━━━━━━━━━━━━━━━━━━━━\u001b[0m\u001b[37m\u001b[0m \u001b[1m3s\u001b[0m 5ms/step\n",
            "Loading model from /content/drive/My Drive/UH/Data Science Project/GTSRB/Models/model_fold_2.h5\n"
          ]
        },
        {
          "output_type": "stream",
          "name": "stderr",
          "text": [
            "WARNING:absl:Compiled the loaded model, but the compiled metrics have yet to be built. `model.compile_metrics` will be empty until you train or evaluate the model.\n"
          ]
        },
        {
          "output_type": "stream",
          "name": "stdout",
          "text": [
            "\u001b[1m395/395\u001b[0m \u001b[32m━━━━━━━━━━━━━━━━━━━━\u001b[0m\u001b[37m\u001b[0m \u001b[1m1s\u001b[0m 2ms/step\n",
            "Loading model from /content/drive/My Drive/UH/Data Science Project/GTSRB/Models/model_fold_3.h5\n"
          ]
        },
        {
          "output_type": "stream",
          "name": "stderr",
          "text": [
            "WARNING:absl:Compiled the loaded model, but the compiled metrics have yet to be built. `model.compile_metrics` will be empty until you train or evaluate the model.\n"
          ]
        },
        {
          "output_type": "stream",
          "name": "stdout",
          "text": [
            "\u001b[1m395/395\u001b[0m \u001b[32m━━━━━━━━━━━━━━━━━━━━\u001b[0m\u001b[37m\u001b[0m \u001b[1m1s\u001b[0m 2ms/step\n"
          ]
        }
      ]
    },
    {
      "cell_type": "markdown",
      "source": [
        "##Save predictions"
      ],
      "metadata": {
        "id": "O85RZdtWTURp"
      }
    },
    {
      "cell_type": "code",
      "source": [
        "# Create a DataFrame to save the image file names and predicted classes\n",
        "result_df = pd.DataFrame({\n",
        "    'Filename': test_img_names,\n",
        "    'Predicted Class': predicted_classes\n",
        "})\n",
        "\n",
        "# Ensure the filenames are sorted in ascending order in the result file\n",
        "result_df = result_df.sort_values(by='Filename')\n",
        "\n",
        "# Save the results to a CSV file\n",
        "result_df.to_csv('gtsrb_test_predictions.csv', index=False)\n",
        "print(\"Predictions saved to 'gtsrb_test_predictions.csv'\")"
      ],
      "metadata": {
        "id": "dsE9s43oZxZ9",
        "colab": {
          "base_uri": "https://localhost:8080/"
        },
        "outputId": "c1306bf2-f1d8-469f-823f-e590e4a98af3"
      },
      "execution_count": null,
      "outputs": [
        {
          "output_type": "stream",
          "name": "stdout",
          "text": [
            "Predictions saved to 'gtsrb_test_predictions.csv'\n"
          ]
        }
      ]
    },
    {
      "cell_type": "markdown",
      "source": [
        "##Print test accuracy"
      ],
      "metadata": {
        "id": "r-g96E9mTtPY"
      }
    },
    {
      "cell_type": "code",
      "source": [
        "import pandas as pd\n",
        "\n",
        "# Load your predictions\n",
        "predictions_df = pd.read_csv('gtsrb_test_predictions.csv')\n",
        "\n",
        "# Load the ground truth file (downloaded separately)\n",
        "ground_truth_df = pd.read_csv('/content/drive/My Drive/Data/GTSRB/GT-final_test.csv', sep=';')\n",
        "\n",
        "# Merge both dataframes on the 'Filename' column\n",
        "merged_df = pd.merge(predictions_df, ground_truth_df[['Filename', 'ClassId']], on='Filename')\n",
        "\n",
        "# Calculate accuracy by comparing predicted classes with actual classes\n",
        "accuracy = (merged_df['Predicted Class'] == merged_df['ClassId']).mean()\n",
        "\n",
        "print(f\"Test Accuracy: {accuracy * 100:.2f}%\")"
      ],
      "metadata": {
        "id": "VPLJ8FH4TFcT",
        "colab": {
          "base_uri": "https://localhost:8080/"
        },
        "outputId": "3b24a2ba-ec76-4002-d9d0-647297c80f13"
      },
      "execution_count": null,
      "outputs": [
        {
          "output_type": "stream",
          "name": "stdout",
          "text": [
            "Test Accuracy: 98.12%\n"
          ]
        }
      ]
    },
    {
      "cell_type": "markdown",
      "source": [
        "##Classification Report"
      ],
      "metadata": {
        "id": "nJvIFdVBlRut"
      }
    },
    {
      "cell_type": "code",
      "source": [
        "# Classification Report\n",
        "from sklearn.metrics import classification_report\n",
        "print(classification_report(merged_df['Predicted Class'], merged_df['ClassId']))"
      ],
      "metadata": {
        "colab": {
          "base_uri": "https://localhost:8080/"
        },
        "id": "nbfOmDcC4KIL",
        "outputId": "531afe53-8a01-47cb-c9c5-056ecd26a8de"
      },
      "execution_count": null,
      "outputs": [
        {
          "output_type": "stream",
          "name": "stdout",
          "text": [
            "              precision    recall  f1-score   support\n",
            "\n",
            "           0       1.00      1.00      1.00        60\n",
            "           1       1.00      0.98      0.99       734\n",
            "           2       0.99      0.98      0.99       757\n",
            "           3       0.97      0.99      0.98       440\n",
            "           4       0.98      0.99      0.99       654\n",
            "           5       0.98      0.96      0.97       640\n",
            "           6       0.83      1.00      0.91       124\n",
            "           7       0.97      0.99      0.98       441\n",
            "           8       1.00      0.98      0.99       456\n",
            "           9       1.00      0.99      0.99       486\n",
            "          10       0.99      1.00      0.99       655\n",
            "          11       1.00      0.97      0.98       432\n",
            "          12       0.97      1.00      0.98       670\n",
            "          13       1.00      1.00      1.00       720\n",
            "          14       1.00      1.00      1.00       270\n",
            "          15       1.00      0.91      0.95       231\n",
            "          16       0.99      1.00      1.00       149\n",
            "          17       1.00      1.00      1.00       359\n",
            "          18       0.99      0.98      0.98       392\n",
            "          19       1.00      1.00      1.00        60\n",
            "          20       1.00      0.84      0.91       107\n",
            "          21       1.00      0.91      0.95        99\n",
            "          22       0.97      0.96      0.97       122\n",
            "          23       0.99      0.99      0.99       150\n",
            "          24       0.98      1.00      0.99        88\n",
            "          25       0.96      0.99      0.97       468\n",
            "          26       0.90      0.95      0.92       171\n",
            "          27       0.75      0.96      0.84        47\n",
            "          28       1.00      1.00      1.00       150\n",
            "          29       1.00      0.92      0.96        98\n",
            "          30       0.85      1.00      0.92       128\n",
            "          31       0.99      0.99      0.99       270\n",
            "          32       1.00      0.77      0.87        78\n",
            "          33       1.00      1.00      1.00       209\n",
            "          34       0.99      0.94      0.97       126\n",
            "          35       0.98      1.00      0.99       385\n",
            "          36       0.98      0.98      0.98       120\n",
            "          37       1.00      1.00      1.00        60\n",
            "          38       1.00      0.98      0.99       700\n",
            "          39       1.00      0.96      0.98        94\n",
            "          40       0.91      0.96      0.94        85\n",
            "          41       0.90      0.96      0.93        56\n",
            "          42       0.98      0.99      0.98        89\n",
            "\n",
            "    accuracy                           0.98     12630\n",
            "   macro avg       0.97      0.97      0.97     12630\n",
            "weighted avg       0.98      0.98      0.98     12630\n",
            "\n"
          ]
        }
      ]
    }
  ]
}